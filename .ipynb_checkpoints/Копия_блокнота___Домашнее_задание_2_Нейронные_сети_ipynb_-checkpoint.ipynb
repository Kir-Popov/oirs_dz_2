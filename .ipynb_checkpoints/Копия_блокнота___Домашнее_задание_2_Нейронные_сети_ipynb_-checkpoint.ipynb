{
 "cells": [
  {
   "cell_type": "markdown",
   "metadata": {
    "id": "7uLSt3vBI0zr"
   },
   "source": [
    "# Домашнее задание 2. Нейронные сети\n",
    "## Фамилия Имя Группа"
   ]
  },
  {
   "cell_type": "markdown",
   "metadata": {
    "id": "2JxNVonhRMgf"
   },
   "source": [
    "В зависимости от варианта, для решения задачи используйте следующие наборы данных:\n",
    "\n",
    "<table>\n",
    "    <thead>\n",
    "         <tr>\n",
    "            <th colspan=1>Задача классификации</th>\n",
    "            <th colspan=5>Задача регрессии</th>\n",
    "        </tr>\n",
    "        <tr>\n",
    "            <th> </th>\n",
    "            <th>A</th>\n",
    "            <th>B</th>\n",
    "            <th>C</th>\n",
    "            <th>D</th>\n",
    "            <th>E</th>\n",
    "        </tr>\n",
    "    </thead>\n",
    "    <tbody>\n",
    "        <tr>\n",
    "            <td>K</td>\n",
    "            <td>1</td>\n",
    "            <td>2</td>\n",
    "            <td>3</td>\n",
    "            <td>4</td>\n",
    "            <td>5</td>\n",
    "        </tr>\n",
    "        <tr>\n",
    "            <td>L</td>\n",
    "            <td>6</td>\n",
    "            <td>7</td>\n",
    "            <td>8</td>\n",
    "            <td>9</td>\n",
    "            <td>10</td>\n",
    "        </tr>\n",
    "        <tr>\n",
    "            <td>M</td>\n",
    "            <td>11</td>\n",
    "            <td>12</td>\n",
    "            <td>13</td>\n",
    "            <td>14</td>\n",
    "            <td>15</td>\n",
    "        </tr>\n",
    "        <tr>\n",
    "            <td>N</td>\n",
    "            <td>16</td>\n",
    "            <td>17</td>\n",
    "            <td>18</td>\n",
    "            <td>19</td>\n",
    "            <td>20</td>\n",
    "        </tr>\n",
    "        <tr>\n",
    "            <td>O</td>\n",
    "            <td>21</td>\n",
    "            <td>22</td>\n",
    "            <td>23</td>\n",
    "            <td>24</td>\n",
    "            <td>25</td>\n",
    "        </tr>\n",
    "    </tbody>\n",
    "</table>\n",
    "\n",
    "### Наборы данных\n",
    "\n",
    "**Задача регрессии**\n",
    "\n",
    "A. [Набор данных](https://www.kaggle.com/aungpyaeap/fish-market) Таблица `Fish.csv`. Задача: построить модель, предсказывающую вес рыбы (колонка `Weight`). Baseline: RMSE (root mean square error) = 83.7\n",
    "\n",
    "B. [Набор данных](https://www.kaggle.com/nehalbirla/vehicle-dataset-from-cardekho) Таблица `Car details v3.csv`. Задача: построить модель, предсказывающую стоимость автомобиля (колонка `selling_price`). Baseline: RMSE (root mean square error) = 110000\n",
    "\n",
    "C. [Набор данных](https://www.kaggle.com/quantbruce/real-estate-price-prediction) Таблица `Real estate.csv`. Задача: построить модель, предсказывающую стоимость квадратного метра жилья (колонка `Y house price of unit area`). Baseline: RMSE (root mean square error) = 8\n",
    "\n",
    "D. [Набор данных](https://www.kaggle.com/mirichoi0218/insurance) Таблица `insurance.csv`. Задача: построить модель, предсказывающую стоимость медицинской страховки (колонка `charges`). Baseline: RMSE (root mean square error) = 5800\n",
    "\n",
    "E. [Набор данных](https://archive.ics.uci.edu/ml/machine-learning-databases/wine-quality/) Объединить таблицы `winequality-white.csv` и `winequality-red.csv`. Задача: построить модель, предсказывающую качество вина (колонка `quality`). Baseline: RMSE (root mean square error) = 0.8\n",
    "\n",
    "\n",
    "---\n",
    "\n",
    "**Задача классификации**\n",
    "\n",
    "K. [Набор данных](https://www.kaggle.com/c/jigsaw-toxic-comment-classification-challenge/data) Таблица `train.csv`. Задача: детектировать токсичные комментарии (0 или 1 в колонке `toxic`) исключительно по содержимому комментария (колонка `comment_text`). Baseline: sklearn.metrics.f1_score(average='macro') по колонке `toxic` = 0.86\n",
    "\n",
    "L. [Набор данных](https://www.kaggle.com/pavansubhasht/ibm-hr-analytics-attrition-dataset) Таблица `WA_Fn-UseC_-HR-Employee-Attrition.csv`. Задача: предсказать увольнение сотрудника (колонка `attrition`). Baseline: sklearn.metrics.f1_score(average='macro') = 0.70\n",
    "\n",
    "M. [Набор данных](https://www.kaggle.com/uciml/sms-spam-collection-dataset) Таблица `spam.csv` (при загрузку датасета в питоне использовать кодировку encoding='latin-1'). Задача: детектировать, является ли СМС-сообщение спамом. Baseline: sklearn.metrics.f1_score(average='macro') = 0.95\n",
    "\n",
    "N. [Набор данных](https://www.kaggle.com/uciml/pima-indians-diabetes-database) Таблица `diabetes.csv`. Задача: детектировать, есть ли у человека диабет. Baseline: sklearn.metrics.f1_score(average='macro') = 0.73\n",
    "\n",
    "O. [Набор данных](https://www.kaggle.com/fedesoriano/stroke-prediction-dataset) Таблица `healthcare-dataset-stroke-data.csv`. Задача: детектировать, был ли у человека инсульт. Baseline: sklearn.metrics.f1_score(average='macro') = 0.56\n"
   ]
  },
  {
   "cell_type": "markdown",
   "metadata": {
    "id": "zsqatIg_JBu7"
   },
   "source": [
    "# 0. Инициализация библиотек"
   ]
  },
  {
   "cell_type": "code",
   "execution_count": 6,
   "metadata": {
    "id": "WGZt4ftTJxg4"
   },
   "outputs": [
    {
     "name": "stderr",
     "output_type": "stream",
     "text": [
      "/home/kirill/.local/lib/python3.8/site-packages/tqdm/auto.py:22: TqdmWarning: IProgress not found. Please update jupyter and ipywidgets. See https://ipywidgets.readthedocs.io/en/stable/user_install.html\n",
      "  from .autonotebook import tqdm as notebook_tqdm\n"
     ]
    }
   ],
   "source": [
    "import pandas as pd\n",
    "import numpy as np\n",
    "import matplotlib.pyplot as plt\n",
    "import torch\n",
    "%matplotlib inline"
   ]
  },
  {
   "cell_type": "markdown",
   "metadata": {
    "id": "5oGgl1uGJBxH"
   },
   "source": [
    "# 1. Искусственная неронная сеть для решения задачи регрессии (9 баллов)"
   ]
  },
  {
   "cell_type": "markdown",
   "metadata": {
    "id": "qV47VXssLKa9"
   },
   "source": [
    "## 1.1 Загрузите данные, поделить на train и test\n",
    "\n"
   ]
  },
  {
   "cell_type": "code",
   "execution_count": 12,
   "metadata": {
    "id": "XjIoB9zTKAY2"
   },
   "outputs": [],
   "source": [
    "from sklearn.model_selection import train_test_split\n",
    "import torch\n",
    "\n",
    "data = pd.read_csv(\"Fish.csv\")\n",
    "\n",
    "\n",
    "def get_X_Y(data, tensor_flag = False):\n",
    "    X = data.drop('Weight', axis=1)\n",
    "    X = X.drop('Species', axis=1)\n",
    "    \n",
    "    Y = data['Weight']\n",
    "    X_train, X_test, Y_train, Y_test = train_test_split(X, Y, test_size=0.20)\n",
    "    if tensor_flag:\n",
    "        X_train = torch.tensor(X_train.values, dtype=torch.float)\n",
    "        Y_train = torch.tensor(Y_train.values, dtype=torch.float)\n",
    "        Y_train = Y_train.reshape(len(Y_train), 1)\n",
    "\n",
    "        X_test = torch.tensor(X_test.values, dtype=torch.float)\n",
    "        Y_test = torch.tensor(Y_test.values, dtype=torch.float)\n",
    "        Y_test = Y_test.reshape(len(Y_test), 1)\n",
    "        \n",
    "        \n",
    "    return X_train, X_test, Y_train, Y_test"
   ]
  },
  {
   "cell_type": "markdown",
   "metadata": {
    "id": "MYWcgRrZSWfY"
   },
   "source": [
    "## 1.2 По необходимости проведите преодбработку/нормализацию данных"
   ]
  },
  {
   "cell_type": "code",
   "execution_count": 3,
   "metadata": {
    "id": "VzFWQfW9SWYc"
   },
   "outputs": [
    {
     "name": "stdout",
     "output_type": "stream",
     "text": [
      "159\n",
      "135\n"
     ]
    }
   ],
   "source": [
    "from sklearn.preprocessing import OneHotEncoder\n",
    "from copy import copy\n",
    "\n",
    "ohe = OneHotEncoder(sparse=False)\n",
    "ohe_ftrs = ohe.fit_transform(data['Species'].values.reshape(-1,1))\n",
    "tmp = pd.DataFrame(ohe_ftrs, columns = ['dummy' + str(i) for i in range(ohe_ftrs.shape[1])])\n",
    "\n",
    "data = pd.concat([data, tmp], axis=1)\n",
    "print(len(data))\n",
    "\n",
    "\n",
    "# Находим 95 квантиль и исключаем все что выше\n",
    "quantile = data.quantile(q=0.95)\n",
    "items = quantile.items()\n",
    "prepared_data = data\n",
    "for name, quantile_value in items:\n",
    "    \n",
    "    # Проверяем, что это не дополнительный стобец из OneHotEncoder\n",
    "    if 'dummy' in name:\n",
    "        continue\n",
    "    prepared_data = prepared_data[prepared_data[name] <= quantile_value]\n",
    "    \n",
    "print(len(prepared_data))\n"
   ]
  },
  {
   "cell_type": "markdown",
   "metadata": {
    "id": "T7o0JR_2RxYI"
   },
   "source": [
    "## 1.3 Попробуйте различное количество слоёв\n",
    "\n",
    "Обучите 4 модели, используя различное количество линейных слоёв: 1 (=линейная регрессия), 2, 3, 4. Между двумя линейными слоями должна быть фунция активации, например, сигмоида. На последнем слое функцию активации можно не использовать.\n",
    "\n",
    "Постройте: 1) график loss для train и test в зависимости от используемого количетсва слоёв; 2) график accuracy для train и test в зависимости от используемого количества слоёв."
   ]
  },
  {
   "cell_type": "code",
   "execution_count": 88,
   "metadata": {
    "id": "lWqTXo-GRxLj"
   },
   "outputs": [],
   "source": [
    "def train_network(model, optimizer_type, X, Y, count_epoch):\n",
    "    if optimizer_type == 0:\n",
    "        optimizer =  torch.optim.Adam(model.parameters(), lr = 0.1)\n",
    "    if optimizer_type == 1:\n",
    "        optimizer =  torch.optim.SGD(model.parameters(), lr = 0.1)\n",
    "    if optimizer_type == 2:\n",
    "        optimizer = torch.optim.RMSprop(model.parameters(), lr = 0.1)\n",
    "    if optimizer_type == 3:\n",
    "        optimizer = torch.optim.SGD(model.parameters(), lr = 0.1, momentum = 0.8)\n",
    "        \n",
    "    loss_func = nn.MSELoss()\n",
    "    for epoch in range(count_epoch):\n",
    "        model.train()\n",
    "        output = model.forward(X)\n",
    "        loss = torch.sqrt(loss_func(output, Y))\n",
    "        optimizer.zero_grad()\n",
    "        loss.backward()\n",
    "        optimizer.step()\n",
    "        if not ((epoch + 1) % 1000):\n",
    "            print('Epoch [{}/{}], Loss: {:.4f}'.format(epoch + 1, count_epoch, loss.item()))   \n",
    "    print(loss.item())\n",
    "    return loss.item()\n",
    "\n",
    "def test_network(model, X, Y):\n",
    "    loss_func = nn.MSELoss()\n",
    "    output = model.forward(X)\n",
    "    loss = torch.sqrt(loss_func(output, Y))\n",
    "    return loss.item()\n"
   ]
  },
  {
   "cell_type": "code",
   "execution_count": 84,
   "metadata": {},
   "outputs": [],
   "source": [
    "from torch import nn\n",
    "\n",
    "model_1 = torch.nn.Sequential(\n",
    "    nn.Linear(12,1)\n",
    ")\n",
    "\n",
    "model_2 = torch.nn.Sequential(\n",
    "    nn.Linear(12,5), \n",
    "    nn.ReLU(), \n",
    "    nn.Linear(5, 1)\n",
    ")\n",
    "\n",
    "model_3 = torch.nn.Sequential(\n",
    "    nn.Linear(12,15), \n",
    "    nn.ReLU(),\n",
    "    nn.Linear(15, 8), \n",
    "    nn.ReLU(),\n",
    "    nn.Linear(8, 2),\n",
    "    nn.ReLU(),\n",
    "    nn.Linear(2, 1)\n",
    ")\n",
    "\n",
    "\n",
    "# Лучшая модель\n",
    "model_4 = torch.nn.Sequential(\n",
    "    nn.Linear(12,15), \n",
    "    nn.ReLU(),\n",
    "    nn.Linear(15, 8), \n",
    "    nn.ReLU(),\n",
    "    nn.Linear(8, 5),\n",
    "    nn.ReLU(),\n",
    "    nn.Linear(5, 3),\n",
    "    nn.ReLU(),\n",
    "    nn.Linear(3, 1),\n",
    ")\n",
    "\n",
    "models = [model_1, model_2, model_3, model_4]\n"
   ]
  },
  {
   "cell_type": "code",
   "execution_count": 100,
   "metadata": {},
   "outputs": [
    {
     "name": "stdout",
     "output_type": "stream",
     "text": [
      "Модель номер - 1\n",
      "Процесс обучения:\n",
      "Epoch [1000/3000], Loss: 7.3235\n",
      "Epoch [2000/3000], Loss: 5.9630\n",
      "Epoch [3000/3000], Loss: 4.7768\n",
      "4.776806354522705\n",
      "Модель номер - 2\n",
      "Процесс обучения:\n",
      "Epoch [1000/3000], Loss: 191.2937\n",
      "Epoch [2000/3000], Loss: 194.4079\n",
      "Epoch [3000/3000], Loss: 176.7783\n",
      "176.77825927734375\n",
      "Модель номер - 3\n",
      "Процесс обучения:\n",
      "Epoch [1000/3000], Loss: 255.8216\n",
      "Epoch [2000/3000], Loss: 251.4629\n",
      "Epoch [3000/3000], Loss: 252.5611\n",
      "252.5611114501953\n",
      "Модель номер - 4\n",
      "Процесс обучения:\n",
      "Epoch [1000/3000], Loss: 170.8756\n",
      "Epoch [2000/3000], Loss: 141.6231\n",
      "Epoch [3000/3000], Loss: 158.7049\n",
      "158.70494079589844\n",
      "Модель номер - 5\n",
      "Процесс обучения:\n",
      "Epoch [1000/3000], Loss: 197.5961\n",
      "Epoch [2000/3000], Loss: 236.6270\n",
      "Epoch [3000/3000], Loss: 208.9142\n",
      "208.91416931152344\n",
      "{0: 4.776806354522705, 1: 176.77825927734375, 2: 252.5611114501953, 3: 158.70494079589844, 4: 208.91416931152344}\n",
      "Модель номер - 1\n",
      "Тест\n",
      "Модель номер - 2\n",
      "Тест\n",
      "Модель номер - 3\n",
      "Тест\n",
      "Модель номер - 4\n",
      "Тест\n",
      "Модель номер - 5\n",
      "Тест\n",
      "{0: 129.90716552734375, 1: 144.64578247070312, 2: 234.658935546875, 3: 150.35330200195312, 4: 192.67198181152344}\n"
     ]
    },
    {
     "data": {
      "text/plain": [
       "Text(0.5, 1.0, 'loss')"
      ]
     },
     "execution_count": 100,
     "metadata": {},
     "output_type": "execute_result"
    },
    {
     "data": {
      "image/png": "[encoded data removed]",
      "text/plain": [
       "<Figure size 432x288 with 1 Axes>"
      ]
     },
     "metadata": {
      "needs_background": "light"
     },
     "output_type": "display_data"
    }
   ],
   "source": [
    "X_train, X_test, Y_train, Y_test = get_X_Y(prepared_data, True)\n",
    "\n",
    "loss_train_dict = dict()\n",
    "for i, model in enumerate(models):\n",
    "    print(f\"Модель номер - {i + 1}\")\n",
    "    print(\"Процесс обучения:\")\n",
    "    loss = train_network(model=model, optimizer_type=0, X=X_train, Y=Y_train, count_epoch=3000)\n",
    "    loss_train_dict[i] = loss\n",
    "print(loss_train_dict)\n",
    "\n",
    "loss_test_dict = dict()\n",
    "for i, model in enumerate(models):\n",
    "    print(f\"Модель номер - {i + 1}\")\n",
    "    print(\"Тест\")\n",
    "    loss = test_network(model, X_test, Y_test)\n",
    "    loss_test_dict[i] = loss\n",
    "    \n",
    "print(loss_test_dict)\n",
    "\n",
    "plt.plot(loss_train_dict.keys(), loss_train_dict.values())\n",
    "plt.plot(loss_test_dict.keys(), loss_test_dict.values())\n",
    "plt.legend(['train', 'test'])\n",
    "plt.title('loss')\n",
    "    "
   ]
  },
  {
   "cell_type": "markdown",
   "metadata": {
    "id": "mpc9FHD7LWn1"
   },
   "source": [
    "\n",
    "## 1.4 Попробуйте различные функции активации\n",
    "\n",
    "Обучите 4 модели, используя 4 различных функции активации: sigmoid, tanh, ReLU, ELU. \n",
    "\n",
    "Постройте: 1) график loss для train и test в зависимости от используемой функции активации; 2) график accuracy для train и test в зависимости от используемой функции активации;"
   ]
  },
  {
   "cell_type": "code",
   "execution_count": 104,
   "metadata": {
    "id": "fhIBevWiLeeY",
    "scrolled": true
   },
   "outputs": [
    {
     "name": "stdout",
     "output_type": "stream",
     "text": [
      "Модель номер - 1\n",
      "Процесс обучения:\n",
      "Epoch [1000/3000], Loss: 242.4112\n",
      "Epoch [2000/3000], Loss: 241.7277\n",
      "Epoch [3000/3000], Loss: 241.7277\n",
      "241.72769165039062\n",
      "Модель номер - 2\n",
      "Процесс обучения:\n",
      "Epoch [1000/3000], Loss: 242.4224\n",
      "Epoch [2000/3000], Loss: 241.7277\n",
      "Epoch [3000/3000], Loss: 241.7277\n",
      "241.72769165039062\n",
      "Модель номер - 3\n",
      "Процесс обучения:\n",
      "Epoch [1000/3000], Loss: 304.5218\n",
      "Epoch [2000/3000], Loss: 262.9019\n",
      "Epoch [3000/3000], Loss: 245.6156\n",
      "245.6156463623047\n",
      "Модель номер - 4\n",
      "Процесс обучения:\n",
      "Epoch [1000/3000], Loss: 242.4860\n",
      "Epoch [2000/3000], Loss: 241.7277\n",
      "Epoch [3000/3000], Loss: 241.7277\n",
      "241.72769165039062\n",
      "\n",
      "Модель номер - 1\n",
      "Тест\n",
      "Модель номер - 2\n",
      "Тест\n",
      "Модель номер - 3\n",
      "Тест\n",
      "Модель номер - 4\n",
      "Тест\n"
     ]
    },
    {
     "data": {
      "text/plain": [
       "Text(0.5, 1.0, 'loss')"
      ]
     },
     "execution_count": 104,
     "metadata": {},
     "output_type": "execute_result"
    },
    {
     "data": {
      "image/png": "[encoded data removed]",
      "text/plain": [
       "<Figure size 432x288 with 1 Axes>"
      ]
     },
     "metadata": {
      "needs_background": "light"
     },
     "output_type": "display_data"
    }
   ],
   "source": [
    "from torch import nn\n",
    "\n",
    "activation_functions = [\n",
    "    nn.Sigmoid(),\n",
    "    nn.Tanh(),\n",
    "    nn.ReLU(),\n",
    "    nn.ELU()\n",
    "]\n",
    "\n",
    "models = []\n",
    "for activation_function in activation_functions:\n",
    "    model = torch.nn.Sequential(\n",
    "        nn.Linear(12,15), \n",
    "        activation_function,\n",
    "        nn.Linear(15, 8), \n",
    "        activation_function,\n",
    "        nn.Linear(8, 5),\n",
    "        activation_function,\n",
    "        nn.Linear(5, 3),\n",
    "        activation_function,\n",
    "        nn.Linear(3, 1),\n",
    "    )\n",
    "\n",
    "    models.append(model)\n",
    "    \n",
    "X_train, X_test, Y_train, Y_test = get_X_Y(prepared_data, True)\n",
    "\n",
    "loss_train_dict = dict()\n",
    "for i, model in enumerate(models):\n",
    "    print(f\"Модель номер - {i + 1}\")\n",
    "    print(\"Процесс обучения:\")\n",
    "    loss = train_network(model=model, optimizer_type=0, X=X_train, Y=Y_train, count_epoch=3000)\n",
    "    loss_train_dict[i] = loss\n",
    "\n",
    "print()\n",
    "\n",
    "loss_test_dict = dict()\n",
    "for i, model in enumerate(models):\n",
    "    print(f\"Модель номер - {i + 1}\")\n",
    "    print(\"Тест\")\n",
    "    loss = test_network(model, X_test, Y_test)\n",
    "    loss_test_dict[i] = loss\n",
    "    \n",
    "keys = ['Sigmoid', 'Tanh', 'ReLU', 'ELU']\n",
    "plt.plot(keys, loss_train_dict.values())\n",
    "plt.plot(keys, loss_test_dict.values())\n",
    "plt.legend(['train', 'test'])\n",
    "plt.title('loss')\n",
    "    "
   ]
  },
  {
   "cell_type": "markdown",
   "metadata": {
    "id": "DzgKq1-qLghm"
   },
   "source": [
    "## 1.5 Попробуйте различные алгоритмы оптимизации\n",
    "\n",
    "Обучите 4 модели, используя 4 различных алгоритма оптимизации: SGD, SGD with momentum, RMSprop, Adam\n",
    "\n",
    "Постройте: 1) график loss для train и test в зависимости от используемого  алгоритма оптимизации; 2) график accuracy для train и test в зависимости от используемого  алгоритма оптимизации."
   ]
  },
  {
   "cell_type": "code",
   "execution_count": 107,
   "metadata": {
    "id": "hLwYrg7NLgIZ",
    "scrolled": true
   },
   "outputs": [
    {
     "name": "stdout",
     "output_type": "stream",
     "text": [
      "Модель номер - 1\n",
      "Процесс обучения:\n",
      "Epoch [1000/3000], Loss: 28.0220\n",
      "Epoch [2000/3000], Loss: 35.9074\n",
      "Epoch [3000/3000], Loss: 33.0384\n",
      "33.03839874267578\n",
      "Модель номер - 1\n",
      "Тест\n",
      "Модель номер - 2\n",
      "Процесс обучения:\n",
      "Epoch [1000/3000], Loss: 345.9615\n",
      "Epoch [2000/3000], Loss: 307.3145\n",
      "Epoch [3000/3000], Loss: 282.4451\n",
      "282.44512939453125\n",
      "Модель номер - 2\n",
      "Тест\n",
      "Модель номер - 3\n",
      "Процесс обучения:\n",
      "Epoch [1000/3000], Loss: 254.4612\n",
      "Epoch [2000/3000], Loss: 254.9008\n",
      "Epoch [3000/3000], Loss: 254.8311\n",
      "254.8310546875\n",
      "Модель номер - 3\n",
      "Тест\n",
      "Модель номер - 4\n",
      "Процесс обучения:\n",
      "Epoch [1000/3000], Loss: 261.1097\n",
      "Epoch [2000/3000], Loss: 254.5923\n",
      "Epoch [3000/3000], Loss: 254.4637\n",
      "254.46368408203125\n",
      "Модель номер - 4\n",
      "Тест\n",
      "{0: 33.03839874267578, 1: 282.44512939453125, 2: 254.8310546875, 3: 254.46368408203125}\n",
      "{0: 43.77269744873047, 1: 215.12481689453125, 2: 218.44248962402344, 3: 222.59329223632812}\n"
     ]
    },
    {
     "data": {
      "text/plain": [
       "Text(0.5, 1.0, 'loss')"
      ]
     },
     "execution_count": 107,
     "metadata": {},
     "output_type": "execute_result"
    },
    {
     "data": {
      "image/png": "[encoded data removed]",
      "text/plain": [
       "<Figure size 432x288 with 1 Axes>"
      ]
     },
     "metadata": {
      "needs_background": "light"
     },
     "output_type": "display_data"
    }
   ],
   "source": [
    "X_train, X_test, Y_train, Y_test = get_X_Y(prepared_data, True)\n",
    "loss_train_dict = dict()\n",
    "loss_test_dict = dict()\n",
    "for i in range(4):\n",
    "    model = torch.nn.Sequential(\n",
    "        nn.Linear(12,15), \n",
    "        nn.ReLU(),\n",
    "        nn.Linear(15, 8), \n",
    "        nn.ReLU(),\n",
    "        nn.Linear(8, 5),\n",
    "        nn.ReLU(),\n",
    "        nn.Linear(5, 3),\n",
    "        nn.ReLU(),\n",
    "        nn.Linear(3, 1),\n",
    "    )\n",
    "    \n",
    "\n",
    "    print(f\"Модель номер - {i + 1}\")\n",
    "    print(\"Процесс обучения:\")\n",
    "    loss = train_network(model=model, optimizer_type=i, X=X_train, Y=Y_train, count_epoch=3000)\n",
    "    loss_train_dict[i] = loss\n",
    "\n",
    "    print(f\"Модель номер - {i + 1}\")\n",
    "    print(\"Тест\")\n",
    "    loss = test_network(model, X_test, Y_test)\n",
    "    loss_test_dict[i] = loss\n",
    "print(loss_train_dict)   \n",
    "print(loss_test_dict)\n",
    "\n",
    "keys = ['SGD', 'SGDM', 'RMSprop', 'Adam']\n",
    "plt.plot(keys, loss_train_dict.values())\n",
    "plt.plot(keys, loss_test_dict.values())\n",
    "plt.legend(['train', 'test'])\n",
    "plt.title('loss')\n",
    "    "
   ]
  },
  {
   "cell_type": "markdown",
   "metadata": {
    "id": "3QXFzDbOLZ7w"
   },
   "source": [
    "## 1.6 Попробуйте добавить dropout и batch norm\n",
    "\n",
    "Обучите 5 моделей, используя 5 различных конфигураций: только BatchNorm, только dropout 0.2, только dropout 0.5, BatchNorm + dropout 0.2, BatchNorm + dropout 0.5.\n",
    "\n",
    "Постройте: 1) график loss для train и test в зависимости от используемой конфигурации; 2) график accuracy для train и test в зависимости от используемой конфигурации."
   ]
  },
  {
   "cell_type": "code",
   "execution_count": 108,
   "metadata": {
    "id": "aUKil2VRLeIv",
    "scrolled": true
   },
   "outputs": [
    {
     "name": "stdout",
     "output_type": "stream",
     "text": [
      "Модель номер - 1\n",
      "Процесс обучения:\n",
      "Epoch [1000/3000], Loss: 23.1362\n",
      "Epoch [2000/3000], Loss: 24.6659\n",
      "Epoch [3000/3000], Loss: 22.7664\n",
      "22.766376495361328\n",
      "Модель номер - 2\n",
      "Процесс обучения:\n",
      "Epoch [1000/3000], Loss: 162.6871\n",
      "Epoch [2000/3000], Loss: 149.1946\n",
      "Epoch [3000/3000], Loss: 151.5642\n",
      "151.5641632080078\n",
      "Модель номер - 3\n",
      "Процесс обучения:\n",
      "Epoch [1000/3000], Loss: 265.0347\n",
      "Epoch [2000/3000], Loss: 267.7367\n",
      "Epoch [3000/3000], Loss: 261.0792\n",
      "261.0791931152344\n",
      "Модель номер - 4\n",
      "Процесс обучения:\n",
      "Epoch [1000/3000], Loss: 131.3620\n",
      "Epoch [2000/3000], Loss: 122.2661\n",
      "Epoch [3000/3000], Loss: 127.2583\n",
      "127.2583236694336\n",
      "Модель номер - 5\n",
      "Процесс обучения:\n",
      "Epoch [1000/3000], Loss: 200.5535\n",
      "Epoch [2000/3000], Loss: 223.4210\n",
      "Epoch [3000/3000], Loss: 175.5591\n",
      "175.55905151367188\n",
      "{0: 22.766376495361328, 1: 151.5641632080078, 2: 261.0791931152344, 3: 127.2583236694336, 4: 175.55905151367188}\n",
      "\n",
      "Модель номер - 1\n",
      "Тест\n",
      "Модель номер - 2\n",
      "Тест\n",
      "Модель номер - 3\n",
      "Тест\n",
      "Модель номер - 4\n",
      "Тест\n",
      "Модель номер - 5\n",
      "Тест\n",
      "{0: 88.80967712402344, 1: 96.30289459228516, 2: 206.30613708496094, 3: 169.78799438476562, 4: 152.252685546875}\n"
     ]
    },
    {
     "data": {
      "text/plain": [
       "Text(0.5, 1.0, 'loss')"
      ]
     },
     "execution_count": 108,
     "metadata": {},
     "output_type": "execute_result"
    },
    {
     "data": {
      "image/png": "[encoded data removed]",
      "text/plain": [
       "<Figure size 432x288 with 1 Axes>"
      ]
     },
     "metadata": {
      "needs_background": "light"
     },
     "output_type": "display_data"
    }
   ],
   "source": [
    "model_1 = torch.nn.Sequential(\n",
    "        nn.Linear(12,15),\n",
    "        nn.BatchNorm1d(15),\n",
    "        nn.ReLU(),\n",
    "        nn.Linear(15, 8),\n",
    "        nn.BatchNorm1d(8),\n",
    "        nn.ReLU(),\n",
    "        nn.Linear(8, 5),\n",
    "        nn.BatchNorm1d(5),\n",
    "        nn.ReLU(),\n",
    "        nn.Linear(5, 3),\n",
    "        nn.BatchNorm1d(3),\n",
    "        nn.ReLU(),\n",
    "        nn.Linear(3, 1),\n",
    "    )\n",
    "\n",
    "model_2 = torch.nn.Sequential(\n",
    "        nn.Linear(12,15),\n",
    "        nn.ReLU(),\n",
    "        nn.Dropout(0.2),\n",
    "        nn.Linear(15, 8),\n",
    "        nn.ReLU(),\n",
    "        nn.Dropout(0.2),\n",
    "        nn.Linear(8, 5),\n",
    "        nn.ReLU(),\n",
    "        nn.Dropout(0.2),\n",
    "        nn.Linear(5, 3),\n",
    "        nn.ReLU(),\n",
    "        nn.Dropout(0.2),\n",
    "        nn.Linear(3, 1),\n",
    "    )\n",
    "\n",
    "model_3 = torch.nn.Sequential(\n",
    "        nn.Linear(12,15),\n",
    "        nn.ReLU(),\n",
    "        nn.Dropout(0.5),\n",
    "        nn.Linear(15, 8),\n",
    "        nn.ReLU(),\n",
    "        nn.Dropout(0.5),\n",
    "        nn.Linear(8, 5),\n",
    "        nn.ReLU(),\n",
    "        nn.Dropout(0.5),\n",
    "        nn.Linear(5, 3),\n",
    "        nn.ReLU(),\n",
    "        nn.Dropout(0.5),\n",
    "        nn.Linear(3, 1),\n",
    "    )\n",
    "\n",
    "model_4 = torch.nn.Sequential(\n",
    "        nn.Linear(12,15),\n",
    "        nn.BatchNorm1d(15),\n",
    "        nn.ReLU(),\n",
    "        nn.Dropout(0.2),\n",
    "        nn.Linear(15, 8),\n",
    "        nn.BatchNorm1d(8),\n",
    "        nn.ReLU(),\n",
    "        nn.Dropout(0.2),\n",
    "        nn.Linear(8, 5),\n",
    "        nn.BatchNorm1d(5),\n",
    "        nn.ReLU(),\n",
    "        nn.Dropout(0.2),\n",
    "        nn.Linear(5, 3),\n",
    "        nn.BatchNorm1d(3),\n",
    "        nn.ReLU(),\n",
    "        nn.Dropout(0.2),\n",
    "        nn.Linear(3, 1),\n",
    "    )\n",
    "\n",
    "model_5 = torch.nn.Sequential(\n",
    "        nn.Linear(12,15),\n",
    "        nn.BatchNorm1d(15),\n",
    "        nn.ReLU(),\n",
    "        nn.Dropout(0.5),\n",
    "        nn.Linear(15, 8),\n",
    "        nn.BatchNorm1d(8),\n",
    "        nn.ReLU(),\n",
    "        nn.Dropout(0.5),\n",
    "        nn.Linear(8, 5),\n",
    "        nn.BatchNorm1d(5),\n",
    "        nn.ReLU(),\n",
    "        nn.Dropout(0.5),\n",
    "        nn.Linear(5, 3),\n",
    "        nn.BatchNorm1d(3),\n",
    "        nn.ReLU(),\n",
    "        nn.Dropout(0.5),\n",
    "        nn.Linear(3, 1),\n",
    "    )\n",
    "\n",
    "\n",
    "models = [model_1, model_2, model_3, model_4, model_5]\n",
    "\n",
    "X_train, X_test, Y_train, Y_test = get_X_Y(prepared_data, True)\n",
    "\n",
    "loss_train_dict = dict()\n",
    "for i, model in enumerate(models):\n",
    "    print(f\"Модель номер - {i + 1}\")\n",
    "    print(\"Процесс обучения:\")\n",
    "    loss = train_network(model=model, optimizer_type=0, X=X_train, Y=Y_train, count_epoch=3000)\n",
    "    loss_train_dict[i] = loss\n",
    "print(loss_train_dict)\n",
    "\n",
    "print()\n",
    "\n",
    "loss_test_dict = dict()\n",
    "for i, model in enumerate(models):\n",
    "    print(f\"Модель номер - {i + 1}\")\n",
    "    print(\"Тест\")\n",
    "    loss = test_network(model, X_test, Y_test)\n",
    "    loss_test_dict[i] = loss\n",
    "    \n",
    "print(loss_test_dict)\n",
    "\n",
    "plt.plot(loss_train_dict.keys(), loss_train_dict.values())\n",
    "plt.plot(loss_train_dict.keys(), loss_test_dict.values())\n",
    "plt.legend(['train', 'test'])\n",
    "plt.title('loss')\n"
   ]
  },
  {
   "cell_type": "markdown",
   "metadata": {
    "id": "SY7zNAyiOFOM"
   },
   "source": [
    "## 1.7 Постройте финальную модель\n",
    "\n",
    "Используя информацию, полученную на предыдущих этапах, предложите оптимальную конфигурацию нейронной сети для вашей задачи. Обучите модель."
   ]
  },
  {
   "cell_type": "code",
   "execution_count": 13,
   "metadata": {
    "id": "UT_e4iH5OEu9"
   },
   "outputs": [
    {
     "ename": "NameError",
     "evalue": "name 'prepared_data' is not defined",
     "output_type": "error",
     "traceback": [
      "\u001b[0;31m---------------------------------------------------------------------------\u001b[0m",
      "\u001b[0;31mNameError\u001b[0m                                 Traceback (most recent call last)",
      "Input \u001b[0;32mIn [13]\u001b[0m, in \u001b[0;36m<module>\u001b[0;34m\u001b[0m\n\u001b[1;32m      1\u001b[0m \u001b[38;5;66;03m# Для финальной модели я выберу BatchNorm, 4 слоя, Adam, ELU\u001b[39;00m\n\u001b[0;32m----> 3\u001b[0m X_train, X_test, Y_train, Y_test \u001b[38;5;241m=\u001b[39m get_X_Y(\u001b[43mprepared_data\u001b[49m, \u001b[38;5;28;01mTrue\u001b[39;00m)\n\u001b[1;32m      4\u001b[0m final_model \u001b[38;5;241m=\u001b[39m torch\u001b[38;5;241m.\u001b[39mnn\u001b[38;5;241m.\u001b[39mSequential(\n\u001b[1;32m      5\u001b[0m         nn\u001b[38;5;241m.\u001b[39mLinear(\u001b[38;5;241m12\u001b[39m,\u001b[38;5;241m15\u001b[39m),\n\u001b[1;32m      6\u001b[0m         nn\u001b[38;5;241m.\u001b[39mBatchNorm1d(\u001b[38;5;241m15\u001b[39m),\n\u001b[0;32m   (...)\u001b[0m\n\u001b[1;32m     17\u001b[0m         nn\u001b[38;5;241m.\u001b[39mLinear(\u001b[38;5;241m3\u001b[39m, \u001b[38;5;241m1\u001b[39m),\n\u001b[1;32m     18\u001b[0m     )\n\u001b[1;32m     20\u001b[0m train_loss \u001b[38;5;241m=\u001b[39m train_network(model\u001b[38;5;241m=\u001b[39mfinal_model, optimizer_type\u001b[38;5;241m=\u001b[39m\u001b[38;5;241m0\u001b[39m, X\u001b[38;5;241m=\u001b[39mX_train, Y\u001b[38;5;241m=\u001b[39mY_train, count_epoch\u001b[38;5;241m=\u001b[39m\u001b[38;5;241m3000\u001b[39m)\n",
      "\u001b[0;31mNameError\u001b[0m: name 'prepared_data' is not defined"
     ]
    }
   ],
   "source": [
    "# Для финальной модели я выберу BatchNorm, 4 слоя, Adam, ELU\n",
    "\n",
    "X_train, X_test, Y_train, Y_test = get_X_Y(prepared_data, True)\n",
    "final_model = torch.nn.Sequential(\n",
    "        nn.Linear(12,15),\n",
    "        nn.BatchNorm1d(15),\n",
    "        nn.ELU(),\n",
    "        nn.Linear(15, 8),\n",
    "        nn.BatchNorm1d(8),\n",
    "        nn.ELU(),\n",
    "        nn.Linear(8, 5),\n",
    "        nn.BatchNorm1d(5),\n",
    "        nn.ELU(),\n",
    "        nn.Linear(5, 3),\n",
    "        nn.BatchNorm1d(3),\n",
    "        nn.ELU(),\n",
    "        nn.Linear(3, 1),\n",
    "    )\n",
    "\n",
    "train_loss = train_network(model=final_model, optimizer_type=0, X=X_train, Y=Y_train, count_epoch=3000)\n",
    "test_loss = test_network(final_model, X_test, Y_test)\n",
    "print(train_loss, test_loss)\n"
   ]
  },
  {
   "cell_type": "markdown",
   "metadata": {
    "heading_collapsed": true,
    "id": "9ZNIdPjgOzjW"
   },
   "source": [
    "## 1.8 Выводы\n",
    "\n",
    "*Прекрасная жизнь начинается с ваших прекрасных мыслей:*"
   ]
  },
  {
   "cell_type": "markdown",
   "metadata": {
    "id": "Jy4QgfopJBzd"
   },
   "source": [
    "# 2. Искусственная неронная сеть для решения задачи классификации (9 баллов)"
   ]
  },
  {
   "cell_type": "markdown",
   "metadata": {
    "id": "To15w7xbTc2M"
   },
   "source": [
    "## 2.1 Загрузите данные, поделить на train и test\n",
    "\n"
   ]
  },
  {
   "cell_type": "code",
   "execution_count": 14,
   "metadata": {
    "id": "5EEi0iUFTc2M"
   },
   "outputs": [],
   "source": [
    "data = pd.read_csv(\"spam.csv\", encoding='latin-1')"
   ]
  },
  {
   "cell_type": "markdown",
   "metadata": {
    "id": "wmtslH2mTc2N"
   },
   "source": [
    "## 2.2 По необходимости проведите преодбработку/нормализацию данных"
   ]
  },
  {
   "cell_type": "code",
   "execution_count": 15,
   "metadata": {
    "id": "cg8jS0p0Tc2N"
   },
   "outputs": [
    {
     "name": "stdout",
     "output_type": "stream",
     "text": [
      "8672\n"
     ]
    }
   ],
   "source": [
    "from sklearn.model_selection import train_test_split\n",
    "from copy import copy\n",
    "\n",
    "def get_verdict(some_str):\n",
    "    if some_str == 'ham':\n",
    "        return 0\n",
    "    return 1\n",
    "\n",
    "# Создадим новый столбец verdict либо 0, либо 1 (1 - спам)\n",
    "data['verdict'] = [get_verdict(line) for line in data['v1']]\n",
    "\n",
    "\n",
    "data_for_task_4 = copy(data)\n",
    "\n",
    "# Получение train_test_split.\n",
    "def get_X_Y_2(data, tensor_flag = False):\n",
    "    X = data['v2']\n",
    "    Y = data['verdict']\n",
    "    \n",
    "    X_train, X_test, Y_train, Y_test = train_test_split(X, Y, test_size=0.20)\n",
    "    \n",
    "    # Перевод в тензоры для pytorch\n",
    "    if tensor_flag:\n",
    "        Y_train = torch.tensor(Y_train.values, dtype=torch.float)\n",
    "        Y_train = Y_train.reshape(len(Y_train), 1)\n",
    "\n",
    "        Y_test = torch.tensor(Y_test.values, dtype=torch.float)\n",
    "        Y_test = Y_test.reshape(len(Y_test), 1)\n",
    "    \n",
    "        \n",
    "    return X_train, X_test, Y_train, Y_test\n",
    "\n",
    "from sklearn.feature_extraction.text import (\n",
    "    CountVectorizer,\n",
    "    TfidfTransformer,\n",
    "    TfidfVectorizer,\n",
    ")\n",
    "\n",
    "cv = CountVectorizer()\n",
    "cv.fit(data['v2'])\n",
    "print(len(cv.vocabulary_))\n",
    "\n",
    "def get_X_tensor(X_train, X_test):\n",
    "    X_train = cv.transform(X_train)\n",
    "    X_test = cv.transform(X_test)\n",
    "    \n",
    "    X_train = X_train.toarray()\n",
    "    X_test = X_test.toarray()\n",
    "    X_train = torch.tensor(X_train, dtype=torch.float)\n",
    "    X_test = torch.tensor(X_test, dtype=torch.float)\n",
    "    return X_train, X_test\n"
   ]
  },
  {
   "cell_type": "markdown",
   "metadata": {
    "id": "btEXeSAUTc2N"
   },
   "source": [
    "## 2.3 Попробуйте различное количество слоёв\n",
    "\n",
    "Обучите 4 модели, используя различное количество линейных слоёв: 1 (=логистическая регрессия), 2, 3, 4. Между двумя линейными слоями должна быть фунция активации, например, сигмоида. На последнем слое в качестве функции активации используйте сигмоиду.\n",
    "\n",
    "Постройте: 1) график loss для train и test в зависимости от используемого количетсва слоёв; 2) график accuracy для train и test в зависимости от используемого количества слоёв."
   ]
  },
  {
   "cell_type": "code",
   "execution_count": 23,
   "metadata": {
    "id": "T2Qm3SpqTc2N"
   },
   "outputs": [],
   "source": [
    "def acc_count(output, b_y):\n",
    "    acc_count = 0\n",
    "    pred_y = output.reshape(-1)\n",
    "    real_y = b_y.reshape(-1)\n",
    "    \n",
    "    for i in range(len(pred_y)):\n",
    "        if abs(real_y[i] - pred_y[i]) < 0.5:\n",
    "            acc_count += 1\n",
    "    return count\n",
    "\n",
    "def test(output, b_y):\n",
    "    tp = 0\n",
    "    tn = 0\n",
    "    fp = 0\n",
    "    fn = 0\n",
    "    pred_y = output.reshape(-1)\n",
    "    real_y = b_y.reshape(-1)\n",
    "    for i in range(pred_y):\n",
    "        if b_y == 1. and abs(real_y[i] - pred_y[i]) < 0.5:\n",
    "            tp += 1\n",
    "        if b_y == 1. and abs(real_y[i] - pred_y[i]) > 0.5:\n",
    "            fn += 1\n",
    "        if b_y == 0. and abs(real_y[i] - pred_y[i]) < 0.5:\n",
    "            fp += 1\n",
    "        if b_y == 0. and abs(real_y[i] - pred_y[i]) > 0.5:\n",
    "            tn += 1\n",
    "    print('acc =', (tn + tp) / (tn + fn + tp + fp)) \n",
    "    print('trp =', tp / (fp + fn))\n",
    "    print('prv =', tp / (tp + fp))\n",
    "\n",
    "    \n",
    "def train_network(model, optimizer_type, X, Y, count_epoch):\n",
    "    if optimizer_type == 0:\n",
    "        optimizer =  torch.optim.Adam(model.parameters(), lr = 0.1)\n",
    "    if optimizer_type == 1:\n",
    "        optimizer =  torch.optim.SGD(model.parameters(), lr = 0.1)\n",
    "    if optimizer_type == 2:\n",
    "        optimizer = torch.optim.RMSprop(model.parameters(), lr = 0.1)\n",
    "    if optimizer_type == 3:\n",
    "        optimizer = torch.optim.SGD(model.parameters(), lr = 0.1, momentum = 0.8)\n",
    "        \n",
    "    loss_func = nn.BCELoss()\n",
    "    for epoch in range(count_epoch):\n",
    "        model.train()\n",
    "        output = model(X)\n",
    "        loss = loss_func(output, Y)\n",
    "        optimizer.zero_grad()\n",
    "        loss.backward()\n",
    "        optimizer.step()\n",
    "        if not ((epoch + 1) % 100):\n",
    "            print('Epoch [{}/{}], Loss: {:.4f}'.format(epoch + 1, count_epoch, loss.item()))   \n",
    "    \n",
    "    train_acc = acc_count(output, Y)\n",
    "    print(train_acc)\n",
    "    return loss.item(), train_acc/X_train.shape[0]\n",
    "\n",
    "def test_network(model, X, Y):\n",
    "    loss_func = nn.CrossEntropyLoss()\n",
    "    output = model.forward(X)\n",
    "    loss = loss_func(output, Y)\n",
    "    test_acc = acc_count(output, Y)\n",
    "    return loss.item(), test_acc/X_test.shape[0]\n"
   ]
  },
  {
   "cell_type": "code",
   "execution_count": 24,
   "metadata": {},
   "outputs": [
    {
     "name": "stdout",
     "output_type": "stream",
     "text": [
      "Epoch [100/200], Loss: 0.0018\n",
      "Epoch [200/200], Loss: 0.0009\n",
      "4457\n",
      "0.000934713811147958 1.0\n",
      "-0.0 0.9829596412556054\n"
     ]
    }
   ],
   "source": [
    "import torch.nn as nn\n",
    "\n",
    "X_train, X_test, Y_train, Y_test = get_X_Y_2(data_for_task_4, tensor_flag=True)\n",
    "\n",
    "X_train, X_test = get_X_tensor(X_train, X_test)\n",
    "\n",
    "model = torch.nn.Sequential(nn.Linear(8672, 1), nn.Sigmoid())\n",
    "loss, acc = train_network(model, 0, X_train, Y_train, 200)\n",
    "print(loss, acc)\n",
    "\n",
    "loss, acc = test_network(model, X_test, Y_test)\n",
    "print(loss, acc)"
   ]
  },
  {
   "cell_type": "markdown",
   "metadata": {
    "id": "XkGzw7o-Tc2O"
   },
   "source": [
    "## 2.4 Попробуйте различные функции активации\n",
    "\n",
    "Обучите 4 модели, используя 4 различных функции активации на промежуточных слоях: sigmoid, tanh, ReLU, ELU. На выходном слое в качестве функции активации используйте сигмоиду.\n",
    "\n",
    "Постройте: 1) график loss для train и test в зависимости от используемой функции активации; 2) график accuracy для train и test в зависимости от используемой функции активации;"
   ]
  },
  {
   "cell_type": "code",
   "execution_count": null,
   "metadata": {
    "id": "9G7xxbgjTc2O"
   },
   "outputs": [],
   "source": []
  },
  {
   "cell_type": "markdown",
   "metadata": {
    "id": "lRFVFDcqTc2O"
   },
   "source": [
    "## 2.5 Попробуйте различные алгоритмы оптимизации\n",
    "\n",
    "Обучите 4 модели, используя 4 различных алгоритма оптимизации: SGD, SGD with momentum, RMSprop, Adam\n",
    "\n",
    "Постройте: 1) график loss для train и test в зависимости от используемого  алгоритма оптимизации; 2) график accuracy для train и test в зависимости от используемого  алгоритма оптимизации."
   ]
  },
  {
   "cell_type": "code",
   "execution_count": null,
   "metadata": {
    "id": "OVXBQqYITc2O"
   },
   "outputs": [],
   "source": []
  },
  {
   "cell_type": "markdown",
   "metadata": {
    "id": "ihobg30TTc2O"
   },
   "source": [
    "## 2.6 Попробуйте добавить dropout и batch norm\n",
    "\n",
    "Обучите 5 моделей, используя 5 различных конфигураций: только BatchNorm, только dropout 0.2, только dropout 0.5, BatchNorm + dropout 0.2, BatchNorm + dropout 0.5.\n",
    "\n",
    "Постройте: 1) график loss для train и test в зависимости от используемой конфигурации; 2) график accuracy для train и test в зависимости от используемой конфигурации."
   ]
  },
  {
   "cell_type": "code",
   "execution_count": null,
   "metadata": {
    "id": "GvAwr2BETc2P"
   },
   "outputs": [],
   "source": []
  },
  {
   "cell_type": "markdown",
   "metadata": {
    "id": "CYtBxIU-Tc2P"
   },
   "source": [
    "## 2.7 Постройте финальную модель\n",
    "\n",
    "Используя информацию, полученную на предыдущих этапах, предложите оптимальную конфигурацию нейронной сети для вашей задачи. Обучите модель."
   ]
  },
  {
   "cell_type": "code",
   "execution_count": null,
   "metadata": {
    "id": "ccY4B2QTTiHs"
   },
   "outputs": [],
   "source": []
  },
  {
   "cell_type": "markdown",
   "metadata": {
    "id": "9YdprgXnTiST"
   },
   "source": [
    "## 2.8 Выводы\n",
    "\n",
    "*Your beautiful thoughts:*"
   ]
  },
  {
   "cell_type": "code",
   "execution_count": null,
   "metadata": {
    "id": "Cl24iumEKXXd"
   },
   "outputs": [],
   "source": []
  }
 ],
 "metadata": {
  "colab": {
   "collapsed_sections": [],
   "name": "Копия блокнота \" Домашнее задание 2. Нейронные сети.ipynb\"",
   "provenance": []
  },
  "kernelspec": {
   "display_name": "Python 3 (ipykernel)",
   "language": "python",
   "name": "python3"
  },
  "language_info": {
   "codemirror_mode": {
    "name": "ipython",
    "version": 3
   },
   "file_extension": ".py",
   "mimetype": "text/x-python",
   "name": "python",
   "nbconvert_exporter": "python",
   "pygments_lexer": "ipython3",
   "version": "3.8.10"
  }
 },
 "nbformat": 4,
 "nbformat_minor": 1
}
