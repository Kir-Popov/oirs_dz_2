{
 "cells": [
  {
   "cell_type": "markdown",
   "metadata": {
    "id": "7uLSt3vBI0zr"
   },
   "source": [
    "# Домашнее задание 2. Нейронные сети\n",
    "## Фамилия Имя Группа"
   ]
  },
  {
   "cell_type": "markdown",
   "metadata": {
    "id": "2JxNVonhRMgf"
   },
   "source": [
    "В зависимости от варианта, для решения задачи используйте следующие наборы данных:\n",
    "\n",
    "<table>\n",
    "    <thead>\n",
    "         <tr>\n",
    "            <th colspan=1>Задача классификации</th>\n",
    "            <th colspan=5>Задача регрессии</th>\n",
    "        </tr>\n",
    "        <tr>\n",
    "            <th> </th>\n",
    "            <th>A</th>\n",
    "            <th>B</th>\n",
    "            <th>C</th>\n",
    "            <th>D</th>\n",
    "            <th>E</th>\n",
    "        </tr>\n",
    "    </thead>\n",
    "    <tbody>\n",
    "        <tr>\n",
    "            <td>K</td>\n",
    "            <td>1</td>\n",
    "            <td>2</td>\n",
    "            <td>3</td>\n",
    "            <td>4</td>\n",
    "            <td>5</td>\n",
    "        </tr>\n",
    "        <tr>\n",
    "            <td>L</td>\n",
    "            <td>6</td>\n",
    "            <td>7</td>\n",
    "            <td>8</td>\n",
    "            <td>9</td>\n",
    "            <td>10</td>\n",
    "        </tr>\n",
    "        <tr>\n",
    "            <td>M</td>\n",
    "            <td>11</td>\n",
    "            <td>12</td>\n",
    "            <td>13</td>\n",
    "            <td>14</td>\n",
    "            <td>15</td>\n",
    "        </tr>\n",
    "        <tr>\n",
    "            <td>N</td>\n",
    "            <td>16</td>\n",
    "            <td>17</td>\n",
    "            <td>18</td>\n",
    "            <td>19</td>\n",
    "            <td>20</td>\n",
    "        </tr>\n",
    "        <tr>\n",
    "            <td>O</td>\n",
    "            <td>21</td>\n",
    "            <td>22</td>\n",
    "            <td>23</td>\n",
    "            <td>24</td>\n",
    "            <td>25</td>\n",
    "        </tr>\n",
    "    </tbody>\n",
    "</table>\n",
    "\n",
    "### Наборы данных\n",
    "\n",
    "**Задача регрессии**\n",
    "\n",
    "A. [Набор данных](https://www.kaggle.com/aungpyaeap/fish-market) Таблица `Fish.csv`. Задача: построить модель, предсказывающую вес рыбы (колонка `Weight`). Baseline: RMSE (root mean square error) = 83.7\n",
    "\n",
    "B. [Набор данных](https://www.kaggle.com/nehalbirla/vehicle-dataset-from-cardekho) Таблица `Car details v3.csv`. Задача: построить модель, предсказывающую стоимость автомобиля (колонка `selling_price`). Baseline: RMSE (root mean square error) = 110000\n",
    "\n",
    "C. [Набор данных](https://www.kaggle.com/quantbruce/real-estate-price-prediction) Таблица `Real estate.csv`. Задача: построить модель, предсказывающую стоимость квадратного метра жилья (колонка `Y house price of unit area`). Baseline: RMSE (root mean square error) = 8\n",
    "\n",
    "D. [Набор данных](https://www.kaggle.com/mirichoi0218/insurance) Таблица `insurance.csv`. Задача: построить модель, предсказывающую стоимость медицинской страховки (колонка `charges`). Baseline: RMSE (root mean square error) = 5800\n",
    "\n",
    "E. [Набор данных](https://archive.ics.uci.edu/ml/machine-learning-databases/wine-quality/) Объединить таблицы `winequality-white.csv` и `winequality-red.csv`. Задача: построить модель, предсказывающую качество вина (колонка `quality`). Baseline: RMSE (root mean square error) = 0.8\n",
    "\n",
    "\n",
    "---\n",
    "\n",
    "**Задача классификации**\n",
    "\n",
    "K. [Набор данных](https://www.kaggle.com/c/jigsaw-toxic-comment-classification-challenge/data) Таблица `train.csv`. Задача: детектировать токсичные комментарии (0 или 1 в колонке `toxic`) исключительно по содержимому комментария (колонка `comment_text`). Baseline: sklearn.metrics.f1_score(average='macro') по колонке `toxic` = 0.86\n",
    "\n",
    "L. [Набор данных](https://www.kaggle.com/pavansubhasht/ibm-hr-analytics-attrition-dataset) Таблица `WA_Fn-UseC_-HR-Employee-Attrition.csv`. Задача: предсказать увольнение сотрудника (колонка `attrition`). Baseline: sklearn.metrics.f1_score(average='macro') = 0.70\n",
    "\n",
    "M. [Набор данных](https://www.kaggle.com/uciml/sms-spam-collection-dataset) Таблица `spam.csv` (при загрузку датасета в питоне использовать кодировку encoding='latin-1'). Задача: детектировать, является ли СМС-сообщение спамом. Baseline: sklearn.metrics.f1_score(average='macro') = 0.95\n",
    "\n",
    "N. [Набор данных](https://www.kaggle.com/uciml/pima-indians-diabetes-database) Таблица `diabetes.csv`. Задача: детектировать, есть ли у человека диабет. Baseline: sklearn.metrics.f1_score(average='macro') = 0.73\n",
    "\n",
    "O. [Набор данных](https://www.kaggle.com/fedesoriano/stroke-prediction-dataset) Таблица `healthcare-dataset-stroke-data.csv`. Задача: детектировать, был ли у человека инсульт. Baseline: sklearn.metrics.f1_score(average='macro') = 0.56\n"
   ]
  },
  {
   "cell_type": "markdown",
   "metadata": {
    "id": "zsqatIg_JBu7"
   },
   "source": [
    "# 0. Инициализация библиотек"
   ]
  },
  {
   "cell_type": "code",
   "execution_count": 86,
   "metadata": {
    "id": "WGZt4ftTJxg4"
   },
   "outputs": [],
   "source": [
    "import pandas as pd\n",
    "import numpy as np\n",
    "import matplotlib.pyplot as plt\n",
    "import torch\n",
    "%matplotlib inline"
   ]
  },
  {
   "cell_type": "markdown",
   "metadata": {
    "id": "5oGgl1uGJBxH"
   },
   "source": [
    "# 1. Искусственная неронная сеть для решения задачи регрессии (9 баллов)"
   ]
  },
  {
   "cell_type": "markdown",
   "metadata": {
    "id": "qV47VXssLKa9"
   },
   "source": [
    "## 1.1 Загрузите данные, поделить на train и test\n",
    "\n"
   ]
  },
  {
   "cell_type": "code",
   "execution_count": 87,
   "metadata": {
    "id": "XjIoB9zTKAY2"
   },
   "outputs": [],
   "source": [
    "from sklearn.model_selection import train_test_split\n",
    "import torch\n",
    "\n",
    "data = pd.read_csv(\"Fish.csv\")\n",
    "\n",
    "\n",
    "def get_X_Y(data, tensor_flag = False):\n",
    "    X = data.drop('Weight', axis=1)\n",
    "    X = X.drop('Species', axis=1)\n",
    "    \n",
    "    Y = data['Weight']\n",
    "    X_train, X_test, Y_train, Y_test = train_test_split(X, Y, test_size=0.20)\n",
    "    if tensor_flag:\n",
    "        X_train = torch.tensor(X_train.values, dtype=torch.float)\n",
    "        Y_train = torch.tensor(Y_train.values, dtype=torch.float)\n",
    "        Y_train = Y_train.reshape(len(Y_train), 1)\n",
    "\n",
    "        X_test = torch.tensor(X_test.values, dtype=torch.float)\n",
    "        Y_test = torch.tensor(Y_test.values, dtype=torch.float)\n",
    "        Y_test = Y_test.reshape(len(Y_test), 1)\n",
    "        \n",
    "        \n",
    "    return X_train, X_test, Y_train, Y_test"
   ]
  },
  {
   "cell_type": "markdown",
   "metadata": {
    "id": "MYWcgRrZSWfY"
   },
   "source": [
    "## 1.2 По необходимости проведите преодбработку/нормализацию данных"
   ]
  },
  {
   "cell_type": "code",
   "execution_count": 88,
   "metadata": {
    "id": "VzFWQfW9SWYc"
   },
   "outputs": [
    {
     "name": "stdout",
     "output_type": "stream",
     "text": [
      "159\n",
      "135\n"
     ]
    }
   ],
   "source": [
    "from sklearn.preprocessing import OneHotEncoder\n",
    "from copy import copy\n",
    "\n",
    "ohe = OneHotEncoder(sparse=False)\n",
    "ohe_ftrs = ohe.fit_transform(data['Species'].values.reshape(-1,1))\n",
    "tmp = pd.DataFrame(ohe_ftrs, columns = ['dummy' + str(i) for i in range(ohe_ftrs.shape[1])])\n",
    "\n",
    "data = pd.concat([data, tmp], axis=1)\n",
    "print(len(data))\n",
    "\n",
    "\n",
    "# Находим 95 квантиль и исключаем все что выше\n",
    "quantile = data.quantile(q=0.95)\n",
    "items = quantile.items()\n",
    "prepared_data = data\n",
    "for name, quantile_value in items:\n",
    "    \n",
    "    # Проверяем, что это не дополнительный стобец из OneHotEncoder\n",
    "    if 'dummy' in name:\n",
    "        continue\n",
    "    prepared_data = prepared_data[prepared_data[name] <= quantile_value]\n",
    "    \n",
    "print(len(prepared_data))\n"
   ]
  },
  {
   "cell_type": "markdown",
   "metadata": {
    "id": "T7o0JR_2RxYI"
   },
   "source": [
    "## 1.3 Попробуйте различное количество слоёв\n",
    "\n",
    "Обучите 4 модели, используя различное количество линейных слоёв: 1 (=линейная регрессия), 2, 3, 4. Между двумя линейными слоями должна быть фунция активации, например, сигмоида. На последнем слое функцию активации можно не использовать.\n",
    "\n",
    "Постройте: 1) график loss для train и test в зависимости от используемого количетсва слоёв; 2) график accuracy для train и test в зависимости от используемого количества слоёв."
   ]
  },
  {
   "cell_type": "code",
   "execution_count": 89,
   "metadata": {
    "id": "lWqTXo-GRxLj"
   },
   "outputs": [],
   "source": [
    "def train_network(model, optimizer_type, X, Y, count_epoch):\n",
    "    if optimizer_type == 0:\n",
    "        optimizer =  torch.optim.Adam(model.parameters(), lr = 0.1)\n",
    "    if optimizer_type == 1:\n",
    "        optimizer =  torch.optim.SGD(model.parameters(), lr = 0.1)\n",
    "    if optimizer_type == 2:\n",
    "        optimizer = torch.optim.RMSprop(model.parameters(), lr = 0.1)\n",
    "    if optimizer_type == 3:\n",
    "        optimizer = torch.optim.SGD(model.parameters(), lr = 0.1, momentum = 0.8)\n",
    "        \n",
    "    loss_func = nn.MSELoss()\n",
    "    for epoch in range(count_epoch):\n",
    "        model.train()\n",
    "        output = model.forward(X)\n",
    "        loss = torch.sqrt(loss_func(output, Y))\n",
    "        optimizer.zero_grad()\n",
    "        loss.backward()\n",
    "        optimizer.step()\n",
    "        if not ((epoch + 1) % 1000):\n",
    "            print('Epoch [{}/{}], Loss: {:.4f}'.format(epoch + 1, count_epoch, loss.item()))   \n",
    "    print(loss.item())\n",
    "    return loss.item()\n",
    "\n",
    "def test_network(model, X, Y):\n",
    "    loss_func = nn.MSELoss()\n",
    "    output = model.forward(X)\n",
    "    loss = torch.sqrt(loss_func(output, Y))\n",
    "    return loss.item()\n"
   ]
  },
  {
   "cell_type": "code",
   "execution_count": 90,
   "metadata": {},
   "outputs": [],
   "source": [
    "from torch import nn\n",
    "\n",
    "model_1 = torch.nn.Sequential(\n",
    "    nn.Linear(12,1)\n",
    ")\n",
    "\n",
    "model_2 = torch.nn.Sequential(\n",
    "    nn.Linear(12,5), \n",
    "    nn.ReLU(), \n",
    "    nn.Linear(5, 1)\n",
    ")\n",
    "\n",
    "model_3 = torch.nn.Sequential(\n",
    "    nn.Linear(12,15), \n",
    "    nn.ReLU(),\n",
    "    nn.Linear(15, 8), \n",
    "    nn.ReLU(),\n",
    "    nn.Linear(8, 2),\n",
    "    nn.ReLU(),\n",
    "    nn.Linear(2, 1)\n",
    ")\n",
    "\n",
    "\n",
    "# Лучшая модель\n",
    "model_4 = torch.nn.Sequential(\n",
    "    nn.Linear(12,15), \n",
    "    nn.ReLU(),\n",
    "    nn.Linear(15, 8), \n",
    "    nn.ReLU(),\n",
    "    nn.Linear(8, 5),\n",
    "    nn.ReLU(),\n",
    "    nn.Linear(5, 3),\n",
    "    nn.ReLU(),\n",
    "    nn.Linear(3, 1),\n",
    ")\n",
    "\n",
    "models = [model_1, model_2, model_3, model_4]\n"
   ]
  },
  {
   "cell_type": "code",
   "execution_count": 91,
   "metadata": {},
   "outputs": [
    {
     "name": "stdout",
     "output_type": "stream",
     "text": [
      "Модель номер - 1\n",
      "Процесс обучения:\n",
      "Epoch [1000/3000], Loss: 110.5054\n",
      "Epoch [2000/3000], Loss: 83.0173\n",
      "Epoch [3000/3000], Loss: 69.6736\n",
      "69.673583984375\n",
      "Модель номер - 2\n",
      "Процесс обучения:\n",
      "Epoch [1000/3000], Loss: 33.4426\n",
      "Epoch [2000/3000], Loss: 31.9538\n",
      "Epoch [3000/3000], Loss: 31.8659\n",
      "31.865907669067383\n",
      "Модель номер - 3\n",
      "Процесс обучения:\n",
      "Epoch [1000/3000], Loss: 36.3977\n",
      "Epoch [2000/3000], Loss: 33.3339\n",
      "Epoch [3000/3000], Loss: 32.2687\n",
      "32.268741607666016\n",
      "Модель номер - 4\n",
      "Процесс обучения:\n",
      "Epoch [1000/3000], Loss: 32.0205\n",
      "Epoch [2000/3000], Loss: 33.3067\n",
      "Epoch [3000/3000], Loss: 31.9323\n",
      "31.932279586791992\n",
      "{0: 69.673583984375, 1: 31.865907669067383, 2: 32.268741607666016, 3: 31.932279586791992}\n",
      "Модель номер - 1\n",
      "Тест\n",
      "Модель номер - 2\n",
      "Тест\n",
      "Модель номер - 3\n",
      "Тест\n",
      "Модель номер - 4\n",
      "Тест\n",
      "{0: 87.12366485595703, 1: 38.79762268066406, 2: 32.198604583740234, 3: 41.13227081298828}\n"
     ]
    },
    {
     "data": {
      "text/plain": [
       "Text(0.5, 1.0, 'loss')"
      ]
     },
     "execution_count": 91,
     "metadata": {},
     "output_type": "execute_result"
    },
    {
     "data": {
      "image/png": "[encoded data removed]",
      "text/plain": [
       "<Figure size 432x288 with 1 Axes>"
      ]
     },
     "metadata": {
      "needs_background": "light"
     },
     "output_type": "display_data"
    }
   ],
   "source": [
    "X_train, X_test, Y_train, Y_test = get_X_Y(prepared_data, True)\n",
    "\n",
    "loss_train_dict = dict()\n",
    "for i, model in enumerate(models):\n",
    "    print(f\"Модель номер - {i + 1}\")\n",
    "    print(\"Процесс обучения:\")\n",
    "    loss = train_network(model=model, optimizer_type=0, X=X_train, Y=Y_train, count_epoch=3000)\n",
    "    loss_train_dict[i] = loss\n",
    "print(loss_train_dict)\n",
    "\n",
    "loss_test_dict = dict()\n",
    "for i, model in enumerate(models):\n",
    "    print(f\"Модель номер - {i + 1}\")\n",
    "    print(\"Тест\")\n",
    "    loss = test_network(model, X_test, Y_test)\n",
    "    loss_test_dict[i] = loss\n",
    "    \n",
    "print(loss_test_dict)\n",
    "\n",
    "plt.plot(loss_train_dict.keys(), loss_train_dict.values())\n",
    "plt.plot(loss_test_dict.keys(), loss_test_dict.values())\n",
    "plt.legend(['train', 'test'])\n",
    "plt.title('loss')\n",
    "    "
   ]
  },
  {
   "cell_type": "markdown",
   "metadata": {
    "id": "mpc9FHD7LWn1"
   },
   "source": [
    "\n",
    "## 1.4 Попробуйте различные функции активации\n",
    "\n",
    "Обучите 4 модели, используя 4 различных функции активации: sigmoid, tanh, ReLU, ELU. \n",
    "\n",
    "Постройте: 1) график loss для train и test в зависимости от используемой функции активации; 2) график accuracy для train и test в зависимости от используемой функции активации;"
   ]
  },
  {
   "cell_type": "code",
   "execution_count": 92,
   "metadata": {
    "id": "fhIBevWiLeeY",
    "scrolled": true
   },
   "outputs": [
    {
     "name": "stdout",
     "output_type": "stream",
     "text": [
      "Модель номер - 1\n",
      "Процесс обучения:\n",
      "Epoch [1000/3000], Loss: 257.3305\n",
      "Epoch [2000/3000], Loss: 255.2450\n",
      "Epoch [3000/3000], Loss: 255.2449\n",
      "255.2449188232422\n",
      "Модель номер - 2\n",
      "Процесс обучения:\n",
      "Epoch [1000/3000], Loss: 257.3304\n",
      "Epoch [2000/3000], Loss: 255.2450\n",
      "Epoch [3000/3000], Loss: 255.2449\n",
      "255.2449188232422\n",
      "Модель номер - 3\n",
      "Процесс обучения:\n",
      "Epoch [1000/3000], Loss: 38.9782\n",
      "Epoch [2000/3000], Loss: 31.5614\n",
      "Epoch [3000/3000], Loss: 31.2725\n",
      "31.272525787353516\n",
      "Модель номер - 4\n",
      "Процесс обучения:\n",
      "Epoch [1000/3000], Loss: 30.4501\n",
      "Epoch [2000/3000], Loss: 30.9032\n",
      "Epoch [3000/3000], Loss: 30.4276\n",
      "30.427600860595703\n",
      "\n",
      "Модель номер - 1\n",
      "Тест\n",
      "Модель номер - 2\n",
      "Тест\n",
      "Модель номер - 3\n",
      "Тест\n",
      "Модель номер - 4\n",
      "Тест\n"
     ]
    },
    {
     "data": {
      "text/plain": [
       "Text(0.5, 1.0, 'loss')"
      ]
     },
     "execution_count": 92,
     "metadata": {},
     "output_type": "execute_result"
    },
    {
     "data": {
      "image/png": "[encoded data removed]",
      "text/plain": [
       "<Figure size 432x288 with 1 Axes>"
      ]
     },
     "metadata": {
      "needs_background": "light"
     },
     "output_type": "display_data"
    }
   ],
   "source": [
    "from torch import nn\n",
    "\n",
    "activation_functions = [\n",
    "    nn.Sigmoid(),\n",
    "    nn.Tanh(),\n",
    "    nn.ReLU(),\n",
    "    nn.ELU()\n",
    "]\n",
    "\n",
    "models = []\n",
    "for activation_function in activation_functions:\n",
    "    model = torch.nn.Sequential(\n",
    "        nn.Linear(12,15), \n",
    "        activation_function,\n",
    "        nn.Linear(15, 8), \n",
    "        activation_function,\n",
    "        nn.Linear(8, 5),\n",
    "        activation_function,\n",
    "        nn.Linear(5, 3),\n",
    "        activation_function,\n",
    "        nn.Linear(3, 1),\n",
    "    )\n",
    "\n",
    "    models.append(model)\n",
    "    \n",
    "X_train, X_test, Y_train, Y_test = get_X_Y(prepared_data, True)\n",
    "\n",
    "loss_train_dict = dict()\n",
    "for i, model in enumerate(models):\n",
    "    print(f\"Модель номер - {i + 1}\")\n",
    "    print(\"Процесс обучения:\")\n",
    "    loss = train_network(model=model, optimizer_type=0, X=X_train, Y=Y_train, count_epoch=3000)\n",
    "    loss_train_dict[i] = loss\n",
    "\n",
    "print()\n",
    "\n",
    "loss_test_dict = dict()\n",
    "for i, model in enumerate(models):\n",
    "    print(f\"Модель номер - {i + 1}\")\n",
    "    print(\"Тест\")\n",
    "    loss = test_network(model, X_test, Y_test)\n",
    "    loss_test_dict[i] = loss\n",
    "    \n",
    "keys = ['Sigmoid', 'Tanh', 'ReLU', 'ELU']\n",
    "plt.plot(keys, loss_train_dict.values())\n",
    "plt.plot(keys, loss_test_dict.values())\n",
    "plt.legend(['train', 'test'])\n",
    "plt.title('loss')\n",
    "    "
   ]
  },
  {
   "cell_type": "markdown",
   "metadata": {
    "id": "DzgKq1-qLghm"
   },
   "source": [
    "## 1.5 Попробуйте различные алгоритмы оптимизации\n",
    "\n",
    "Обучите 4 модели, используя 4 различных алгоритма оптимизации: SGD, SGD with momentum, RMSprop, Adam\n",
    "\n",
    "Постройте: 1) график loss для train и test в зависимости от используемого  алгоритма оптимизации; 2) график accuracy для train и test в зависимости от используемого  алгоритма оптимизации."
   ]
  },
  {
   "cell_type": "code",
   "execution_count": 93,
   "metadata": {
    "id": "hLwYrg7NLgIZ",
    "scrolled": true
   },
   "outputs": [
    {
     "name": "stdout",
     "output_type": "stream",
     "text": [
      "Модель номер - 1\n",
      "Процесс обучения:\n",
      "Epoch [1000/3000], Loss: 28.2560\n",
      "Epoch [2000/3000], Loss: 35.0947\n",
      "Epoch [3000/3000], Loss: 32.9005\n",
      "32.900455474853516\n",
      "Модель номер - 1\n",
      "Тест\n",
      "Модель номер - 2\n",
      "Процесс обучения:\n",
      "Epoch [1000/3000], Loss: 327.4926\n",
      "Epoch [2000/3000], Loss: 293.2857\n",
      "Epoch [3000/3000], Loss: 272.3338\n",
      "272.3337707519531\n",
      "Модель номер - 2\n",
      "Тест\n",
      "Модель номер - 3\n",
      "Процесс обучения:\n",
      "Epoch [1000/3000], Loss: 304.0974\n",
      "Epoch [2000/3000], Loss: 262.4044\n",
      "Epoch [3000/3000], Loss: 250.4348\n",
      "250.43484497070312\n",
      "Модель номер - 3\n",
      "Тест\n",
      "Модель номер - 4\n",
      "Процесс обучения:\n",
      "Epoch [1000/3000], Loss: 255.3521\n",
      "Epoch [2000/3000], Loss: 250.5015\n",
      "Epoch [3000/3000], Loss: 250.4127\n",
      "250.4126739501953\n",
      "Модель номер - 4\n",
      "Тест\n",
      "{0: 32.900455474853516, 1: 272.3337707519531, 2: 250.43484497070312, 3: 250.4126739501953}\n",
      "{0: 36.460113525390625, 1: 285.59222412109375, 2: 240.57373046875, 3: 239.9304962158203}\n"
     ]
    },
    {
     "data": {
      "text/plain": [
       "Text(0.5, 1.0, 'loss')"
      ]
     },
     "execution_count": 93,
     "metadata": {},
     "output_type": "execute_result"
    },
    {
     "data": {
      "image/png": "[encoded data removed]",
      "text/plain": [
       "<Figure size 432x288 with 1 Axes>"
      ]
     },
     "metadata": {
      "needs_background": "light"
     },
     "output_type": "display_data"
    }
   ],
   "source": [
    "X_train, X_test, Y_train, Y_test = get_X_Y(prepared_data, True)\n",
    "loss_train_dict = dict()\n",
    "loss_test_dict = dict()\n",
    "for i in range(4):\n",
    "    model = torch.nn.Sequential(\n",
    "        nn.Linear(12,15), \n",
    "        nn.ReLU(),\n",
    "        nn.Linear(15, 8), \n",
    "        nn.ReLU(),\n",
    "        nn.Linear(8, 5),\n",
    "        nn.ReLU(),\n",
    "        nn.Linear(5, 3),\n",
    "        nn.ReLU(),\n",
    "        nn.Linear(3, 1),\n",
    "    )\n",
    "    \n",
    "\n",
    "    print(f\"Модель номер - {i + 1}\")\n",
    "    print(\"Процесс обучения:\")\n",
    "    loss = train_network(model=model, optimizer_type=i, X=X_train, Y=Y_train, count_epoch=3000)\n",
    "    loss_train_dict[i] = loss\n",
    "\n",
    "    print(f\"Модель номер - {i + 1}\")\n",
    "    print(\"Тест\")\n",
    "    loss = test_network(model, X_test, Y_test)\n",
    "    loss_test_dict[i] = loss\n",
    "print(loss_train_dict)   \n",
    "print(loss_test_dict)\n",
    "\n",
    "keys = ['SGD', 'SGDM', 'RMSprop', 'Adam']\n",
    "plt.plot(keys, loss_train_dict.values())\n",
    "plt.plot(keys, loss_test_dict.values())\n",
    "plt.legend(['train', 'test'])\n",
    "plt.title('loss')\n",
    "    "
   ]
  },
  {
   "cell_type": "markdown",
   "metadata": {
    "id": "3QXFzDbOLZ7w"
   },
   "source": [
    "## 1.6 Попробуйте добавить dropout и batch norm\n",
    "\n",
    "Обучите 5 моделей, используя 5 различных конфигураций: только BatchNorm, только dropout 0.2, только dropout 0.5, BatchNorm + dropout 0.2, BatchNorm + dropout 0.5.\n",
    "\n",
    "Постройте: 1) график loss для train и test в зависимости от используемой конфигурации; 2) график accuracy для train и test в зависимости от используемой конфигурации."
   ]
  },
  {
   "cell_type": "code",
   "execution_count": 94,
   "metadata": {
    "id": "aUKil2VRLeIv",
    "scrolled": true
   },
   "outputs": [
    {
     "name": "stdout",
     "output_type": "stream",
     "text": [
      "Модель номер - 1\n",
      "Процесс обучения:\n",
      "Epoch [1000/3000], Loss: 15.9885\n",
      "Epoch [2000/3000], Loss: 15.1745\n",
      "Epoch [3000/3000], Loss: 14.9910\n",
      "14.990970611572266\n",
      "Модель номер - 2\n",
      "Процесс обучения:\n",
      "Epoch [1000/3000], Loss: 213.7359\n",
      "Epoch [2000/3000], Loss: 128.6416\n",
      "Epoch [3000/3000], Loss: 151.9062\n",
      "151.90618896484375\n",
      "Модель номер - 3\n",
      "Процесс обучения:\n",
      "Epoch [1000/3000], Loss: 276.4489\n",
      "Epoch [2000/3000], Loss: 276.1649\n",
      "Epoch [3000/3000], Loss: 262.7614\n",
      "262.7613525390625\n",
      "Модель номер - 4\n",
      "Процесс обучения:\n",
      "Epoch [1000/3000], Loss: 338.6175\n",
      "Epoch [2000/3000], Loss: 290.5666\n",
      "Epoch [3000/3000], Loss: 198.9131\n",
      "198.91314697265625\n",
      "Модель номер - 5\n",
      "Процесс обучения:\n",
      "Epoch [1000/3000], Loss: 251.2294\n",
      "Epoch [2000/3000], Loss: 246.4955\n",
      "Epoch [3000/3000], Loss: 216.1595\n",
      "216.15945434570312\n",
      "{0: 14.990970611572266, 1: 151.90618896484375, 2: 262.7613525390625, 3: 198.91314697265625, 4: 216.15945434570312}\n",
      "\n",
      "Модель номер - 1\n",
      "Тест\n",
      "Модель номер - 2\n",
      "Тест\n",
      "Модель номер - 3\n",
      "Тест\n",
      "Модель номер - 4\n",
      "Тест\n",
      "Модель номер - 5\n",
      "Тест\n",
      "{0: 161.5074005126953, 1: 107.78861999511719, 2: 177.8287811279297, 3: 179.07188415527344, 4: 189.38259887695312}\n"
     ]
    },
    {
     "data": {
      "text/plain": [
       "Text(0.5, 1.0, 'loss')"
      ]
     },
     "execution_count": 94,
     "metadata": {},
     "output_type": "execute_result"
    },
    {
     "data": {
      "image/png": "[encoded data removed]",
      "text/plain": [
       "<Figure size 432x288 with 1 Axes>"
      ]
     },
     "metadata": {
      "needs_background": "light"
     },
     "output_type": "display_data"
    }
   ],
   "source": [
    "model_1 = torch.nn.Sequential(\n",
    "        nn.Linear(12,15),\n",
    "        nn.BatchNorm1d(15),\n",
    "        nn.ReLU(),\n",
    "        nn.Linear(15, 8),\n",
    "        nn.BatchNorm1d(8),\n",
    "        nn.ReLU(),\n",
    "        nn.Linear(8, 5),\n",
    "        nn.BatchNorm1d(5),\n",
    "        nn.ReLU(),\n",
    "        nn.Linear(5, 3),\n",
    "        nn.BatchNorm1d(3),\n",
    "        nn.ReLU(),\n",
    "        nn.Linear(3, 1),\n",
    "    )\n",
    "\n",
    "model_2 = torch.nn.Sequential(\n",
    "        nn.Linear(12,15),\n",
    "        nn.ReLU(),\n",
    "        nn.Dropout(0.2),\n",
    "        nn.Linear(15, 8),\n",
    "        nn.ReLU(),\n",
    "        nn.Dropout(0.2),\n",
    "        nn.Linear(8, 5),\n",
    "        nn.ReLU(),\n",
    "        nn.Dropout(0.2),\n",
    "        nn.Linear(5, 3),\n",
    "        nn.ReLU(),\n",
    "        nn.Dropout(0.2),\n",
    "        nn.Linear(3, 1),\n",
    "    )\n",
    "\n",
    "model_3 = torch.nn.Sequential(\n",
    "        nn.Linear(12,15),\n",
    "        nn.ReLU(),\n",
    "        nn.Dropout(0.5),\n",
    "        nn.Linear(15, 8),\n",
    "        nn.ReLU(),\n",
    "        nn.Dropout(0.5),\n",
    "        nn.Linear(8, 5),\n",
    "        nn.ReLU(),\n",
    "        nn.Dropout(0.5),\n",
    "        nn.Linear(5, 3),\n",
    "        nn.ReLU(),\n",
    "        nn.Dropout(0.5),\n",
    "        nn.Linear(3, 1),\n",
    "    )\n",
    "\n",
    "model_4 = torch.nn.Sequential(\n",
    "        nn.Linear(12,15),\n",
    "        nn.BatchNorm1d(15),\n",
    "        nn.ReLU(),\n",
    "        nn.Dropout(0.2),\n",
    "        nn.Linear(15, 8),\n",
    "        nn.BatchNorm1d(8),\n",
    "        nn.ReLU(),\n",
    "        nn.Dropout(0.2),\n",
    "        nn.Linear(8, 5),\n",
    "        nn.BatchNorm1d(5),\n",
    "        nn.ReLU(),\n",
    "        nn.Dropout(0.2),\n",
    "        nn.Linear(5, 3),\n",
    "        nn.BatchNorm1d(3),\n",
    "        nn.ReLU(),\n",
    "        nn.Dropout(0.2),\n",
    "        nn.Linear(3, 1),\n",
    "    )\n",
    "\n",
    "model_5 = torch.nn.Sequential(\n",
    "        nn.Linear(12,15),\n",
    "        nn.BatchNorm1d(15),\n",
    "        nn.ReLU(),\n",
    "        nn.Dropout(0.5),\n",
    "        nn.Linear(15, 8),\n",
    "        nn.BatchNorm1d(8),\n",
    "        nn.ReLU(),\n",
    "        nn.Dropout(0.5),\n",
    "        nn.Linear(8, 5),\n",
    "        nn.BatchNorm1d(5),\n",
    "        nn.ReLU(),\n",
    "        nn.Dropout(0.5),\n",
    "        nn.Linear(5, 3),\n",
    "        nn.BatchNorm1d(3),\n",
    "        nn.ReLU(),\n",
    "        nn.Dropout(0.5),\n",
    "        nn.Linear(3, 1),\n",
    "    )\n",
    "\n",
    "\n",
    "models = [model_1, model_2, model_3, model_4, model_5]\n",
    "\n",
    "X_train, X_test, Y_train, Y_test = get_X_Y(prepared_data, True)\n",
    "\n",
    "loss_train_dict = dict()\n",
    "for i, model in enumerate(models):\n",
    "    print(f\"Модель номер - {i + 1}\")\n",
    "    print(\"Процесс обучения:\")\n",
    "    loss = train_network(model=model, optimizer_type=0, X=X_train, Y=Y_train, count_epoch=3000)\n",
    "    loss_train_dict[i] = loss\n",
    "print(loss_train_dict)\n",
    "\n",
    "print()\n",
    "\n",
    "loss_test_dict = dict()\n",
    "for i, model in enumerate(models):\n",
    "    print(f\"Модель номер - {i + 1}\")\n",
    "    print(\"Тест\")\n",
    "    loss = test_network(model, X_test, Y_test)\n",
    "    loss_test_dict[i] = loss\n",
    "    \n",
    "print(loss_test_dict)\n",
    "\n",
    "plt.plot(loss_train_dict.keys(), loss_train_dict.values())\n",
    "plt.plot(loss_train_dict.keys(), loss_test_dict.values())\n",
    "plt.legend(['train', 'test'])\n",
    "plt.title('loss')\n"
   ]
  },
  {
   "cell_type": "markdown",
   "metadata": {
    "id": "SY7zNAyiOFOM"
   },
   "source": [
    "## 1.7 Постройте финальную модель\n",
    "\n",
    "Используя информацию, полученную на предыдущих этапах, предложите оптимальную конфигурацию нейронной сети для вашей задачи. Обучите модель."
   ]
  },
  {
   "cell_type": "code",
   "execution_count": 95,
   "metadata": {
    "id": "UT_e4iH5OEu9"
   },
   "outputs": [
    {
     "name": "stdout",
     "output_type": "stream",
     "text": [
      "Epoch [1000/3000], Loss: 5.1763\n",
      "Epoch [2000/3000], Loss: 3.7256\n",
      "Epoch [3000/3000], Loss: 3.0634\n",
      "3.0634496212005615\n",
      "3.0634496212005615 74.63737487792969\n"
     ]
    }
   ],
   "source": [
    "# Для финальной модели я выберу BatchNorm, 4 слоя, Adam, ELU\n",
    "\n",
    "X_train, X_test, Y_train, Y_test = get_X_Y(prepared_data, True)\n",
    "final_model = torch.nn.Sequential(\n",
    "        nn.Linear(12,15),\n",
    "        nn.BatchNorm1d(15),\n",
    "        nn.ELU(),\n",
    "        nn.Linear(15, 8),\n",
    "        nn.BatchNorm1d(8),\n",
    "        nn.ELU(),\n",
    "        nn.Linear(8, 5),\n",
    "        nn.BatchNorm1d(5),\n",
    "        nn.ELU(),\n",
    "        nn.Linear(5, 3),\n",
    "        nn.BatchNorm1d(3),\n",
    "        nn.ELU(),\n",
    "        nn.Linear(3, 1),\n",
    "    )\n",
    "\n",
    "train_loss = train_network(model=final_model, optimizer_type=0, X=X_train, Y=Y_train, count_epoch=3000)\n",
    "test_loss = test_network(final_model, X_test, Y_test)\n",
    "print(train_loss, test_loss)\n"
   ]
  },
  {
   "cell_type": "markdown",
   "metadata": {
    "id": "9ZNIdPjgOzjW"
   },
   "source": [
    "## 1.8 Выводы\n",
    "\n",
    "*Прекрасная жизнь начинается с ваших прекрасных мыслей:*"
   ]
  },
  {
   "cell_type": "markdown",
   "metadata": {},
   "source": [
    "Понял, что пока не понял как выбирать размерность и количество слоев. А с остальным все в порядке)"
   ]
  },
  {
   "cell_type": "markdown",
   "metadata": {
    "id": "Jy4QgfopJBzd"
   },
   "source": [
    "# 2. Искусственная неронная сеть для решения задачи классификации (9 баллов)"
   ]
  },
  {
   "cell_type": "markdown",
   "metadata": {
    "id": "To15w7xbTc2M"
   },
   "source": [
    "## 2.1 Загрузите данные, поделить на train и test\n",
    "\n"
   ]
  },
  {
   "cell_type": "code",
   "execution_count": 96,
   "metadata": {
    "id": "5EEi0iUFTc2M"
   },
   "outputs": [],
   "source": [
    "data = pd.read_csv(\"spam.csv\", encoding='latin-1')"
   ]
  },
  {
   "cell_type": "markdown",
   "metadata": {
    "id": "wmtslH2mTc2N"
   },
   "source": [
    "## 2.2 По необходимости проведите преодбработку/нормализацию данных"
   ]
  },
  {
   "cell_type": "code",
   "execution_count": 97,
   "metadata": {
    "id": "cg8jS0p0Tc2N"
   },
   "outputs": [
    {
     "name": "stdout",
     "output_type": "stream",
     "text": [
      "8672\n"
     ]
    }
   ],
   "source": [
    "from sklearn.model_selection import train_test_split\n",
    "from copy import copy\n",
    "\n",
    "def get_verdict(some_str):\n",
    "    if some_str == 'ham':\n",
    "        return 0\n",
    "    return 1\n",
    "\n",
    "# Создадим новый столбец verdict либо 0, либо 1 (1 - спам)\n",
    "data['verdict'] = [get_verdict(line) for line in data['v1']]\n",
    "\n",
    "\n",
    "data_for_task_4 = copy(data)\n",
    "\n",
    "# Получение train_test_split.\n",
    "def get_X_Y_2(data, tensor_flag = False):\n",
    "    X = data['v2']\n",
    "    Y = data['verdict']\n",
    "    \n",
    "    X_train, X_test, Y_train, Y_test = train_test_split(X, Y, test_size=0.20)\n",
    "    \n",
    "    # Перевод в тензоры для pytorch\n",
    "    if tensor_flag:\n",
    "        Y_train = torch.tensor(Y_train.values, dtype=torch.float)\n",
    "        Y_train = Y_train.reshape(len(Y_train), 1)\n",
    "\n",
    "        Y_test = torch.tensor(Y_test.values, dtype=torch.float)\n",
    "        Y_test = Y_test.reshape(len(Y_test), 1)\n",
    "    \n",
    "        \n",
    "    return X_train, X_test, Y_train, Y_test\n",
    "\n",
    "from sklearn.feature_extraction.text import (\n",
    "    CountVectorizer,\n",
    "    TfidfTransformer,\n",
    "    TfidfVectorizer,\n",
    ")\n",
    "\n",
    "cv = CountVectorizer()\n",
    "cv.fit(data['v2'])\n",
    "print(len(cv.vocabulary_))\n",
    "\n",
    "def get_X_tensor(X_train, X_test):\n",
    "    X_train = cv.transform(X_train)\n",
    "    X_test = cv.transform(X_test)\n",
    "    \n",
    "    X_train = X_train.toarray()\n",
    "    X_test = X_test.toarray()\n",
    "    X_train = torch.tensor(X_train, dtype=torch.float)\n",
    "    X_test = torch.tensor(X_test, dtype=torch.float)\n",
    "    return X_train, X_test\n"
   ]
  },
  {
   "cell_type": "markdown",
   "metadata": {
    "id": "btEXeSAUTc2N"
   },
   "source": [
    "## 2.3 Попробуйте различное количество слоёв\n",
    "\n",
    "Обучите 4 модели, используя различное количество линейных слоёв: 1 (=логистическая регрессия), 2, 3, 4. Между двумя линейными слоями должна быть фунция активации, например, сигмоида. На последнем слое в качестве функции активации используйте сигмоиду.\n",
    "\n",
    "Постройте: 1) график loss для train и test в зависимости от используемого количетсва слоёв; 2) график accuracy для train и test в зависимости от используемого количества слоёв."
   ]
  },
  {
   "cell_type": "code",
   "execution_count": 98,
   "metadata": {
    "id": "T2Qm3SpqTc2N"
   },
   "outputs": [],
   "source": [
    "def acc_count(output, b_y):\n",
    "    acc_count = 0\n",
    "    pred_y = output.reshape(-1)\n",
    "    real_y = b_y.reshape(-1)\n",
    "    \n",
    "    for i in range(len(pred_y)):\n",
    "        if abs(real_y[i] - pred_y[i]) < 0.5:\n",
    "            acc_count += 1\n",
    "    return acc_count\n",
    "\n",
    "def test(output, b_y):\n",
    "    tp = 0\n",
    "    tn = 0\n",
    "    fp = 0\n",
    "    fn = 0\n",
    "    pred_y = output.reshape(-1)\n",
    "    real_y = b_y.reshape(-1)\n",
    "    for i in range(len(pred_y)):\n",
    "        if pred_y[i] > 0.5 and real_y[i] > 0.5:\n",
    "            tp += 1\n",
    "        elif pred_y[i] > 0.5 and real_y[i] < 0.5:\n",
    "            fp += 1\n",
    "        elif pred_y[i] < 0.5 and real_y[i] > 0.5:\n",
    "            fn += 1\n",
    "        elif pred_y[i] < 0.5 and real_y[i] < 0.5:\n",
    "            tn += 1\n",
    "            \n",
    "    print('acc =', (tn + tp) / (tn + fn + tp + fp)) \n",
    "    print('trp =', tp / (tp + fn + 0.0000001))\n",
    "    print('prv =', tp / (tp + fp + 0.0000001))\n",
    "    print('')\n",
    "\n",
    "    \n",
    "def train_network(model, optimizer_type, X, Y, count_epoch):\n",
    "    print('training network')\n",
    "    if optimizer_type == 0:\n",
    "        optimizer =  torch.optim.Adam(model.parameters(), lr = 0.01)\n",
    "    if optimizer_type == 1:\n",
    "        optimizer =  torch.optim.SGD(model.parameters(), lr = 0.01)\n",
    "    if optimizer_type == 2:\n",
    "        optimizer = torch.optim.RMSprop(model.parameters(), lr = 0.01)\n",
    "    if optimizer_type == 3:\n",
    "        optimizer = torch.optim.SGD(model.parameters(), lr = 0.01, momentum = 0.8)\n",
    "        \n",
    "    loss_func = nn.BCELoss()\n",
    "    for epoch in range(count_epoch):\n",
    "        model.train()\n",
    "        output = model(X)\n",
    "        loss = loss_func(output, Y)\n",
    "        optimizer.zero_grad()\n",
    "        loss.backward()\n",
    "        optimizer.step()\n",
    "        if not ((epoch + 1) % 100):\n",
    "            print('Epoch [{}/{}], Loss: {:.4f}'.format(epoch + 1, count_epoch, loss.item()))   \n",
    "    \n",
    "    train_acc = acc_count(output, Y)\n",
    "    test(output, Y)\n",
    "    return loss.item(), train_acc/X_train.shape[0]\n",
    "\n",
    "def test_network(model, X, Y):\n",
    "    print('testing network')\n",
    "    loss_func = nn.BCELoss()\n",
    "    output = model.forward(X)\n",
    "    loss = loss_func(output, Y)\n",
    "    test_acc = acc_count(output, Y)\n",
    "    test(output, Y)\n",
    "    return loss.item(), test_acc/X_test.shape[0]\n"
   ]
  },
  {
   "cell_type": "code",
   "execution_count": 99,
   "metadata": {
    "scrolled": true
   },
   "outputs": [
    {
     "name": "stdout",
     "output_type": "stream",
     "text": [
      "training network\n",
      "acc = 0.9733004262957146\n",
      "trp = 0.7996575341096477\n",
      "prv = 0.9957356074635958\n",
      "\n",
      "testing network\n",
      "acc = 0.9417040358744395\n",
      "trp = 0.6012269934961798\n",
      "prv = 0.9999999989795919\n",
      "\n",
      "training network\n",
      "acc = 0.9952883105227731\n",
      "trp = 0.9674657532589956\n",
      "prv = 0.9964726629635852\n",
      "\n",
      "testing network\n",
      "acc = 0.989237668161435\n",
      "trp = 0.957055214136776\n",
      "prv = 0.9689440987770533\n",
      "\n",
      "training network\n",
      "acc = 0.8689701592999776\n",
      "trp = 0.0\n",
      "prv = 0.0\n",
      "\n",
      "testing network\n",
      "acc = 0.8538116591928251\n",
      "trp = 0.0\n",
      "prv = 0.0\n",
      "\n"
     ]
    },
    {
     "data": {
      "image/png": "[encoded data removed]",
      "text/plain": [
       "<Figure size 432x288 with 1 Axes>"
      ]
     },
     "metadata": {
      "needs_background": "light"
     },
     "output_type": "display_data"
    },
    {
     "data": {
      "image/png": "[encoded data removed]",
      "text/plain": [
       "<Figure size 432x288 with 1 Axes>"
      ]
     },
     "metadata": {
      "needs_background": "light"
     },
     "output_type": "display_data"
    }
   ],
   "source": [
    "import torch.nn as nn\n",
    "\n",
    "X_train, X_test, Y_train, Y_test = get_X_Y_2(data_for_task_4, tensor_flag=True)\n",
    "\n",
    "X_train, X_test = get_X_tensor(X_train, X_test)\n",
    "\n",
    "model_1 = torch.nn.Sequential(\n",
    "    nn.Linear(8672, 1),\n",
    "    nn.Sigmoid()\n",
    ")\n",
    "\n",
    "model_2 = torch.nn.Sequential(\n",
    "    nn.Linear(8672, 1000), \n",
    "    nn.Sigmoid(),\n",
    "    nn.Linear(1000, 1), \n",
    "    nn.Sigmoid()\n",
    ")\n",
    "\n",
    "model_3 = torch.nn.Sequential(\n",
    "    nn.Linear(8672, 1000), \n",
    "    nn.Sigmoid(),\n",
    "    nn.Linear(1000, 5), \n",
    "    nn.Sigmoid(),\n",
    "    nn.Linear(5, 1), \n",
    "    nn.Sigmoid()\n",
    ")\n",
    "\n",
    "# Слишком долго обучать.\n",
    "model_4 = torch.nn.Sequential(\n",
    "    nn.Linear(8672, 1000), \n",
    "    nn.Sigmoid(),\n",
    "    nn.Linear(1000, 10), \n",
    "    nn.Sigmoid(),\n",
    "    nn.Linear(10, 5), \n",
    "    nn.Sigmoid(),\n",
    "    nn.Linear(5, 1), \n",
    "    nn.Sigmoid()\n",
    "    \n",
    ")\n",
    "\n",
    "models = [model_1, model_2, model_3]\n",
    "\n",
    "\n",
    "loss_train_dict = dict()\n",
    "loss_test_dict = dict()\n",
    "\n",
    "acc_train_dict = dict()\n",
    "acc_test_dict = dict()\n",
    "for i, model in enumerate(models):\n",
    "    loss, acc = train_network(model, 0, X_train, Y_train, 10)\n",
    "    loss_train_dict[i] = loss\n",
    "    acc_train_dict[i] = acc\n",
    "    \n",
    "    loss, acc = test_network(model, X_test, Y_test)\n",
    "    loss_test_dict[i] = loss\n",
    "    acc_test_dict[i] = acc\n",
    "    \n",
    "\n",
    "keys = ['1', '2', '3']\n",
    "plt.plot(keys, loss_train_dict.values())\n",
    "plt.plot(keys, loss_test_dict.values())\n",
    "plt.legend(['train', 'test'])\n",
    "plt.title('loss')\n",
    "plt.show()\n",
    "\n",
    "keys = ['1', '2', '3']\n",
    "plt.plot(keys, acc_train_dict.values())\n",
    "plt.plot(keys, acc_train_dict.values())\n",
    "plt.legend(['train', 'test'])\n",
    "plt.title('acc')\n",
    "plt.show()"
   ]
  },
  {
   "cell_type": "markdown",
   "metadata": {
    "id": "XkGzw7o-Tc2O"
   },
   "source": [
    "## 2.4 Попробуйте различные функции активации\n",
    "\n",
    "Обучите 4 модели, используя 4 различных функции активации на промежуточных слоях: sigmoid, tanh, ReLU, ELU. На выходном слое в качестве функции активации используйте сигмоиду.\n",
    "\n",
    "Постройте: 1) график loss для train и test в зависимости от используемой функции активации; 2) график accuracy для train и test в зависимости от используемой функции активации;"
   ]
  },
  {
   "cell_type": "code",
   "execution_count": 100,
   "metadata": {
    "id": "9G7xxbgjTc2O",
    "scrolled": true
   },
   "outputs": [
    {
     "name": "stdout",
     "output_type": "stream",
     "text": [
      "training network\n",
      "Epoch [100/100], Loss: 0.2809\n",
      "acc = 0.9735247924612969\n",
      "trp = 0.8036605655900732\n",
      "prv = 0.9999999997929606\n",
      "\n",
      "testing network\n",
      "acc = 0.9479820627802691\n",
      "trp = 0.6027397256145619\n",
      "prv = 0.9999999988636364\n",
      "\n",
      "training network\n",
      "Epoch [100/100], Loss: 0.0752\n",
      "acc = 0.9986538030065066\n",
      "trp = 0.9900166387703799\n",
      "prv = 0.9999999998319329\n",
      "\n",
      "testing network\n",
      "acc = 0.9856502242152466\n",
      "trp = 0.8972602733580409\n",
      "prv = 0.992424241672406\n",
      "\n",
      "training network\n",
      "Epoch [100/100], Loss: 0.0162\n",
      "acc = 0.9993269015032533\n",
      "trp = 0.9966722128125338\n",
      "prv = 0.9983333331669445\n",
      "\n",
      "testing network\n",
      "acc = 0.9856502242152466\n",
      "trp = 0.8904109582942391\n",
      "prv = 0.9999999992307693\n",
      "\n",
      "training network\n",
      "Epoch [100/100], Loss: 0.0134\n",
      "acc = 0.9995512676688355\n",
      "trp = 0.9966722128125338\n",
      "prv = 0.9999999998330551\n",
      "\n",
      "testing network\n",
      "acc = 0.9865470852017937\n",
      "trp = 0.8972602733580409\n",
      "prv = 0.9999999992366413\n",
      "\n"
     ]
    },
    {
     "data": {
      "image/png": "[encoded data removed]",
      "text/plain": [
       "<Figure size 432x288 with 1 Axes>"
      ]
     },
     "metadata": {
      "needs_background": "light"
     },
     "output_type": "display_data"
    },
    {
     "data": {
      "image/png": "[encoded data removed]",
      "text/plain": [
       "<Figure size 432x288 with 1 Axes>"
      ]
     },
     "metadata": {
      "needs_background": "light"
     },
     "output_type": "display_data"
    }
   ],
   "source": [
    "X_train, X_test, Y_train, Y_test = get_X_Y_2(data_for_task_4, tensor_flag=True)\n",
    "\n",
    "X_train, X_test = get_X_tensor(X_train, X_test)\n",
    "\n",
    "model_1 = torch.nn.Sequential(\n",
    "    nn.Linear(8672, 2), \n",
    "    nn.Sigmoid(),\n",
    "    nn.Linear(2, 1), \n",
    "    nn.Sigmoid()\n",
    ")\n",
    "\n",
    "model_2 = torch.nn.Sequential(\n",
    "    nn.Linear(8672, 2), \n",
    "    nn.Tanh(),\n",
    "    nn.Linear(2, 1), \n",
    "    nn.Sigmoid()\n",
    ")\n",
    "\n",
    "model_3 = torch.nn.Sequential(\n",
    "    nn.Linear(8672, 2), \n",
    "    nn.ReLU(),\n",
    "    nn.Linear(2, 1), \n",
    "    nn.Sigmoid()\n",
    ")\n",
    "\n",
    "model_4 = torch.nn.Sequential(\n",
    "    nn.Linear(8672, 2), \n",
    "    nn.ELU(),\n",
    "    nn.Linear(2, 1), \n",
    "    nn.Sigmoid()\n",
    ")\n",
    "\n",
    "\n",
    "models = [model_1, model_2, model_3, model_4]\n",
    "\n",
    "loss_train_dict = dict()\n",
    "loss_test_dict = dict()\n",
    "\n",
    "acc_train_dict = dict()\n",
    "acc_test_dict = dict()\n",
    "for i, model in enumerate(models):\n",
    "    loss, acc = train_network(model, 0, X_train, Y_train, 100)\n",
    "    loss_train_dict[i] = loss\n",
    "    acc_train_dict[i] = acc\n",
    "    \n",
    "    loss, acc = test_network(model, X_test, Y_test)\n",
    "    loss_test_dict[i] = loss\n",
    "    acc_test_dict[i] = acc\n",
    "    \n",
    "    \n",
    "keys = ['sigmoid', 'tanh', 'ReLU', 'ELU']\n",
    "plt.plot(keys, loss_train_dict.values())\n",
    "plt.plot(keys, loss_test_dict.values())\n",
    "plt.legend(['train', 'test'])\n",
    "plt.title('loss')\n",
    "plt.show()\n",
    "\n",
    "keys = ['sigmoid', 'tanh', 'ReLU', 'ELU']\n",
    "plt.plot(keys, acc_train_dict.values())\n",
    "plt.plot(keys, acc_train_dict.values())\n",
    "plt.legend(['train', 'test'])\n",
    "plt.title('acc')\n",
    "plt.show()"
   ]
  },
  {
   "cell_type": "markdown",
   "metadata": {
    "id": "lRFVFDcqTc2O"
   },
   "source": [
    "## 2.5 Попробуйте различные алгоритмы оптимизации\n",
    "\n",
    "Обучите 4 модели, используя 4 различных алгоритма оптимизации: SGD, SGD with momentum, RMSprop, Adam\n",
    "\n",
    "Постройте: 1) график loss для train и test в зависимости от используемого  алгоритма оптимизации; 2) график accuracy для train и test в зависимости от используемого  алгоритма оптимизации."
   ]
  },
  {
   "cell_type": "code",
   "execution_count": 101,
   "metadata": {
    "id": "OVXBQqYITc2O"
   },
   "outputs": [
    {
     "name": "stdout",
     "output_type": "stream",
     "text": [
      "Sequential(\n",
      "  (0): Linear(in_features=8672, out_features=2, bias=True)\n",
      "  (1): Sigmoid()\n",
      "  (2): Linear(in_features=2, out_features=1, bias=True)\n",
      "  (3): Sigmoid()\n",
      ")\n",
      "training network\n",
      "Epoch [100/100], Loss: 0.1630\n",
      "acc = 0.8651559344850797\n",
      "trp = 0.0\n",
      "prv = 0.0\n",
      "\n",
      "testing network\n",
      "acc = 0.8690582959641255\n",
      "trp = 0.0\n",
      "prv = 0.0\n",
      "\n",
      "Sequential(\n",
      "  (0): Linear(in_features=8672, out_features=2, bias=True)\n",
      "  (1): Sigmoid()\n",
      "  (2): Linear(in_features=2, out_features=1, bias=True)\n",
      "  (3): Sigmoid()\n",
      ")\n",
      "training network\n",
      "Epoch [100/100], Loss: 0.6038\n",
      "acc = 0.8651559344850797\n",
      "trp = 0.0\n",
      "prv = 0.0\n",
      "\n",
      "testing network\n",
      "acc = 0.8690582959641255\n",
      "trp = 0.0\n",
      "prv = 0.0\n",
      "\n",
      "Sequential(\n",
      "  (0): Linear(in_features=8672, out_features=2, bias=True)\n",
      "  (1): Sigmoid()\n",
      "  (2): Linear(in_features=2, out_features=1, bias=True)\n",
      "  (3): Sigmoid()\n",
      ")\n",
      "training network\n",
      "Epoch [100/100], Loss: 0.0991\n",
      "acc = 0.9995512676688355\n",
      "trp = 0.9966722128125338\n",
      "prv = 0.9999999998330551\n",
      "\n",
      "testing network\n",
      "acc = 0.9713004484304932\n",
      "trp = 0.7808219172734097\n",
      "prv = 0.999999999122807\n",
      "\n",
      "Sequential(\n",
      "  (0): Linear(in_features=8672, out_features=2, bias=True)\n",
      "  (1): Sigmoid()\n",
      "  (2): Linear(in_features=2, out_features=1, bias=True)\n",
      "  (3): Sigmoid()\n",
      ")\n",
      "training network\n",
      "Epoch [100/100], Loss: 0.4324\n",
      "acc = 0.8651559344850797\n",
      "trp = 0.0\n",
      "prv = 0.0\n",
      "\n",
      "testing network\n",
      "acc = 0.8690582959641255\n",
      "trp = 0.0\n",
      "prv = 0.0\n",
      "\n"
     ]
    },
    {
     "data": {
      "image/png": "[encoded data removed]",
      "text/plain": [
       "<Figure size 432x288 with 1 Axes>"
      ]
     },
     "metadata": {
      "needs_background": "light"
     },
     "output_type": "display_data"
    },
    {
     "data": {
      "image/png": "[encoded data removed]",
      "text/plain": [
       "<Figure size 432x288 with 1 Axes>"
      ]
     },
     "metadata": {
      "needs_background": "light"
     },
     "output_type": "display_data"
    }
   ],
   "source": [
    "X_train, X_test, Y_train, Y_test = get_X_Y_2(data_for_task_4, tensor_flag=True)\n",
    "\n",
    "X_train, X_test = get_X_tensor(X_train, X_test)\n",
    "\n",
    "loss_train_dict = dict()\n",
    "loss_test_dict = dict()\n",
    "\n",
    "acc_train_dict = dict()\n",
    "acc_test_dict = dict()\n",
    "for i in range(4):\n",
    "    model = torch.nn.Sequential(\n",
    "        nn.Linear(8672, 2), \n",
    "        nn.Sigmoid(),\n",
    "        nn.Linear(2, 1), \n",
    "        nn.Sigmoid()\n",
    "    )\n",
    "    print(model)\n",
    "    loss, acc = train_network(model, i, X_train, Y_train, 100)\n",
    "    loss_train_dict[i] = loss\n",
    "    acc_train_dict[i] = acc\n",
    "    \n",
    "    loss, acc = test_network(model, X_test, Y_test)\n",
    "    loss_test_dict[i] = loss\n",
    "    acc_test_dict[i] = acc\n",
    "    \n",
    "keys = ['SGD', 'SGDM', 'RMSprop', 'Adam']\n",
    "plt.plot(keys, loss_train_dict.values())\n",
    "plt.plot(keys, loss_test_dict.values())\n",
    "plt.legend(['train', 'test'])\n",
    "plt.title('loss')\n",
    "plt.show()\n",
    "\n",
    "keys = ['SGD', 'SGDM', 'RMSprop', 'Adam']\n",
    "plt.plot(keys, acc_train_dict.values())\n",
    "plt.plot(keys, acc_train_dict.values())\n",
    "plt.legend(['train', 'test'])\n",
    "plt.title('acc')\n",
    "plt.show()\n",
    "    "
   ]
  },
  {
   "cell_type": "markdown",
   "metadata": {
    "id": "ihobg30TTc2O"
   },
   "source": [
    "## 2.6 Попробуйте добавить dropout и batch norm\n",
    "\n",
    "Обучите 5 моделей, используя 5 различных конфигураций: только BatchNorm, только dropout 0.2, только dropout 0.5, BatchNorm + dropout 0.2, BatchNorm + dropout 0.5.\n",
    "\n",
    "Постройте: 1) график loss для train и test в зависимости от используемой конфигурации; 2) график accuracy для train и test в зависимости от используемой конфигурации."
   ]
  },
  {
   "cell_type": "code",
   "execution_count": 102,
   "metadata": {
    "id": "GvAwr2BETc2P"
   },
   "outputs": [
    {
     "name": "stdout",
     "output_type": "stream",
     "text": [
      "training network\n",
      "Epoch [100/100], Loss: 0.2364\n",
      "acc = 0.8703163562934709\n",
      "trp = 0.0\n",
      "prv = 0.0\n",
      "\n",
      "testing network\n",
      "acc = 0.8484304932735426\n",
      "trp = 0.0\n",
      "prv = 0.0\n",
      "\n",
      "training network\n",
      "Epoch [100/100], Loss: 0.2288\n",
      "acc = 0.8703163562934709\n",
      "trp = 0.0\n",
      "prv = 0.0\n",
      "\n",
      "testing network\n",
      "acc = 0.8484304932735426\n",
      "trp = 0.0\n",
      "prv = 0.0\n",
      "\n",
      "training network\n",
      "Epoch [100/100], Loss: 0.3696\n",
      "acc = 0.9255104330266996\n",
      "trp = 0.4256055362585458\n",
      "prv = 0.999999999593496\n",
      "\n",
      "testing network\n",
      "acc = 0.9067264573991032\n",
      "trp = 0.3846153843878016\n",
      "prv = 0.9999999984615385\n",
      "\n",
      "training network\n",
      "Epoch [100/100], Loss: 0.4714\n",
      "acc = 0.8703163562934709\n",
      "trp = 0.0\n",
      "prv = 0.0\n",
      "\n",
      "testing network\n",
      "acc = 0.8484304932735426\n",
      "trp = 0.0\n",
      "prv = 0.0\n",
      "\n",
      "training network\n",
      "Epoch [100/100], Loss: 0.2914\n",
      "acc = 0.8703163562934709\n",
      "trp = 0.0\n",
      "prv = 0.0\n",
      "\n",
      "testing network\n",
      "acc = 0.8484304932735426\n",
      "trp = 0.0\n",
      "prv = 0.0\n",
      "\n"
     ]
    },
    {
     "data": {
      "image/png": "[encoded data removed]",
      "text/plain": [
       "<Figure size 432x288 with 1 Axes>"
      ]
     },
     "metadata": {
      "needs_background": "light"
     },
     "output_type": "display_data"
    },
    {
     "data": {
      "image/png": "[encoded data removed]",
      "text/plain": [
       "<Figure size 432x288 with 1 Axes>"
      ]
     },
     "metadata": {
      "needs_background": "light"
     },
     "output_type": "display_data"
    }
   ],
   "source": [
    "X_train, X_test, Y_train, Y_test = get_X_Y_2(data_for_task_4, tensor_flag=True)\n",
    "\n",
    "X_train, X_test = get_X_tensor(X_train, X_test)\n",
    "\n",
    "model = torch.nn.Sequential(\n",
    "        nn.Linear(8672, 2), \n",
    "        nn.Sigmoid(),\n",
    "        nn.Linear(2, 1), \n",
    "        nn.Sigmoid()\n",
    "    )\n",
    "\n",
    "\n",
    "\n",
    "model_1 = torch.nn.Sequential(\n",
    "        nn.Linear(8672, 2), \n",
    "        nn.BatchNorm1d(2),\n",
    "        nn.Sigmoid(),\n",
    "        nn.Linear(2, 1), \n",
    "        nn.Sigmoid()\n",
    "    )\n",
    "\n",
    "model_2 = torch.nn.Sequential(\n",
    "        nn.Linear(8672, 2), \n",
    "        nn.Sigmoid(),\n",
    "        nn.Dropout(0.2),\n",
    "        nn.Linear(2, 1), \n",
    "        nn.Sigmoid()\n",
    "    )\n",
    "\n",
    "model_3 = torch.nn.Sequential(\n",
    "        nn.Linear(8672, 2), \n",
    "        nn.Sigmoid(),\n",
    "        nn.Dropout(0.5),\n",
    "        nn.Linear(2, 1), \n",
    "        nn.Sigmoid()\n",
    "    )\n",
    "\n",
    "model_4 = torch.nn.Sequential(\n",
    "        nn.Linear(8672, 2),\n",
    "        nn.BatchNorm1d(2),\n",
    "        nn.Sigmoid(),\n",
    "        nn.Dropout(0.2),\n",
    "        nn.Linear(2, 1), \n",
    "        nn.Sigmoid()\n",
    "    )\n",
    "\n",
    "model_5 = torch.nn.Sequential(\n",
    "        nn.Linear(8672, 2),\n",
    "        nn.BatchNorm1d(2),\n",
    "        nn.Sigmoid(),\n",
    "        nn.Dropout(0.5),\n",
    "        nn.Linear(2, 1), \n",
    "        nn.Sigmoid()\n",
    "    )\n",
    "\n",
    "models = [model_1, model_2, model_3, model_4, model_5]\n",
    "\n",
    "loss_train_dict = dict()\n",
    "loss_test_dict = dict()\n",
    "acc_train_dict = dict()\n",
    "acc_test_dict = dict()\n",
    "for i, model in enumerate(models):\n",
    "    loss, acc = train_network(model, 0, X_train, Y_train, 100)\n",
    "    loss_train_dict[i] = loss\n",
    "    acc_train_dict[i] = acc\n",
    "    \n",
    "    loss, acc = test_network(model, X_test, Y_test)\n",
    "    loss_test_dict[i] = loss\n",
    "    acc_test_dict[i] = acc\n",
    "    \n",
    "keys = ['1', '2', '3', '4', '5']\n",
    "plt.plot(keys, loss_train_dict.values())\n",
    "plt.plot(keys, loss_test_dict.values())\n",
    "plt.legend(['train', 'test'])\n",
    "plt.title('loss')\n",
    "plt.show()\n",
    "\n",
    "keys = ['1', '2', '3', '4', '5']\n",
    "plt.plot(keys, acc_train_dict.values())\n",
    "plt.plot(keys, acc_train_dict.values())\n",
    "plt.legend(['train', 'test'])\n",
    "plt.title('acc')\n",
    "plt.show()"
   ]
  },
  {
   "cell_type": "markdown",
   "metadata": {
    "id": "CYtBxIU-Tc2P"
   },
   "source": [
    "## 2.7 Постройте финальную модель\n",
    "\n",
    "Используя информацию, полученную на предыдущих этапах, предложите оптимальную конфигурацию нейронной сети для вашей задачи. Обучите модель."
   ]
  },
  {
   "cell_type": "code",
   "execution_count": 103,
   "metadata": {
    "id": "ccY4B2QTTiHs"
   },
   "outputs": [
    {
     "name": "stdout",
     "output_type": "stream",
     "text": [
      "training network\n",
      "Epoch [100/1000], Loss: 0.1043\n",
      "Epoch [200/1000], Loss: 0.0603\n",
      "Epoch [300/1000], Loss: 0.0472\n",
      "Epoch [400/1000], Loss: 0.0369\n",
      "Epoch [500/1000], Loss: 0.0329\n",
      "Epoch [600/1000], Loss: 0.0325\n",
      "Epoch [700/1000], Loss: 0.0274\n",
      "Epoch [800/1000], Loss: 0.0221\n",
      "Epoch [900/1000], Loss: 0.0260\n",
      "Epoch [1000/1000], Loss: 0.0264\n",
      "acc = 0.9928202827013687\n",
      "trp = 0.945854483765507\n",
      "prv = 0.9999999998211092\n",
      "\n",
      "0.026430558413267136 0.9928202827013687\n",
      "testing network\n",
      "acc = 0.9766816143497757\n",
      "trp = 0.8525641020175871\n",
      "prv = 0.9779411757515138\n",
      "\n",
      "0.11398082971572876 0.9766816143497757\n"
     ]
    }
   ],
   "source": [
    "# Возьмем 2 слоя, nn.Tanh(), RMSproop и nn.Dropout(0.2) и побольше эпох\n",
    "\n",
    "X_train, X_test, Y_train, Y_test = get_X_Y_2(data_for_task_4, tensor_flag=True)\n",
    "X_train, X_test = get_X_tensor(X_train, X_test)\n",
    "\n",
    "final_model = torch.nn.Sequential(\n",
    "        nn.Linear(8672, 2), \n",
    "        nn.Tanh(),\n",
    "        nn.Dropout(0.2),\n",
    "        nn.Linear(2, 1), \n",
    "        nn.Sigmoid()\n",
    "    )\n",
    "\n",
    "loss, acc = train_network(final_model, 0, X_train, Y_train, 1000)\n",
    "print(loss, acc)\n",
    "\n",
    "loss, acc = test_network(final_model, X_test, Y_test)\n",
    "print(loss, acc)"
   ]
  },
  {
   "cell_type": "markdown",
   "metadata": {
    "id": "9YdprgXnTiST"
   },
   "source": [
    "## 2.8 Выводы\n",
    "\n",
    "*Your beautiful thoughts:*"
   ]
  },
  {
   "cell_type": "markdown",
   "metadata": {
    "id": "Cl24iumEKXXd"
   },
   "source": [
    "Благодаря этой части задания я стал понимать важность правильного расчета accuracy.\n",
    "Изначально из-за моих ошибок модель не обучалась совсем, но accuracy был 0.86, так\n",
    "как в обучающей выборке были неравномерно распределены данные по классам. \n",
    "После расчета Recall и Precision все стало на свои места. Ощутил, что модель может\n",
    "реально долго обучаться и важность правильного подбора lr. Плюс Dropout ощутимо \n",
    "помогает от переобучения."
   ]
  },
  {
   "cell_type": "code",
   "execution_count": null,
   "metadata": {},
   "outputs": [],
   "source": []
  }
 ],
 "metadata": {
  "colab": {
   "collapsed_sections": [],
   "name": "Копия блокнота \" Домашнее задание 2. Нейронные сети.ipynb\"",
   "provenance": []
  },
  "kernelspec": {
   "display_name": "Python 3 (ipykernel)",
   "language": "python",
   "name": "python3"
  },
  "language_info": {
   "codemirror_mode": {
    "name": "ipython",
    "version": 3
   },
   "file_extension": ".py",
   "mimetype": "text/x-python",
   "name": "python",
   "nbconvert_exporter": "python",
   "pygments_lexer": "ipython3",
   "version": "3.8.10"
  }
 },
 "nbformat": 4,
 "nbformat_minor": 1
}
